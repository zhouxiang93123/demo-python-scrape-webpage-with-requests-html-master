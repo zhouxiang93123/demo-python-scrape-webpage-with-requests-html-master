{
 "cells": [
  {
   "cell_type": "code",
   "execution_count": 76,
   "metadata": {
    "pycharm": {
     "is_executing": false
    }
   },
   "outputs": [],
   "source": [
    "import copy\n",
    "from requests_html import HTMLSession"
   ]
  },
  {
   "cell_type": "code",
   "execution_count": 77,
   "metadata": {
    "pycharm": {
     "is_executing": false
    }
   },
   "outputs": [],
   "source": [
    "session = HTMLSession()"
   ]
  },
  {
   "cell_type": "code",
   "execution_count": 78,
   "metadata": {
    "pycharm": {
     "is_executing": false
    }
   },
   "outputs": [],
   "source": [
    "url = 'https://cn.nytimes.com/china/'"
   ]
  },
  {
   "cell_type": "code",
   "execution_count": 79,
   "metadata": {
    "pycharm": {
     "is_executing": false
    }
   },
   "outputs": [],
   "source": [
    "r = session.get(url)"
   ]
  },
  {
   "cell_type": "code",
   "execution_count": 80,
   "metadata": {
    "pycharm": {
     "is_executing": false
    }
   },
   "outputs": [
    {
     "name": "stdout",
     "text": [
      "var sso_email_sub = \"\"; var js_static_path = \"//d3q1qj9jzsu8nw.cloudfront.net/js\"; var imgs_static_path = \"//d1f1eryiqyjs0r.cloudfront.net/style/imgs\"; var style_static_path = \"//d1f1eryiqyjs0r.cloudfront.net/style\"; var jsonp_path = \"//d3lar09xbwlsge.cloudfront.net\"; var hot_stories_path = \"/async/mostviewed/all/?lang=zh-hans\"; var cookieString = {\"title\":\"\\u67e5\\u770b\\u6211\\u4eec\\u7684 cookie \\u653f\\u7b56\",\"headline\":\"\\u6211\\u4eec\\u4f7f\\u7528 cookie \\u505a\\u4ec0\\u4e48\\uff1f\",\"summary\":\"\\u6211\\u4eec\\u4f7f\\u7528 cookie \\u548c\\u7c7b\\u4f3c\\u6280\\u672f\\u6765\\u8bc6\\u522b\\u60a8\\u7684<b>\\u91cd\\u590d\\u8bbf\\u95ee\\u548c\\u504f\\u597d\\u8bbe\\u7f6e\\uff0c<\\/b><b>\\u8bc4\\u4f30\\u5e7f\\u544a\\u6548\\u679c\\uff0c<\\/b><b>\\u8fdb\\u884c\\u6d41\\u91cf\\u5206\\u6790\\u3002<\\/b>\\u8981\\u4e86\\u89e3\\u66f4\\u591a\\u5173\\u4e8e cookie \\u7684\\u4fe1\\u606f\\uff0c\\u5305\\u62ec\\u5982\\u4f55\\u7981\\u7528\\u5b83\\u4eec\\uff0c\\u8bf7\\u67e5\\u770b\\u6211\\u4eec\\u7684 <a href=\\\"https:\\/\\/nytimes.com\\/cookie-policy\\\" target=\\\"_blank\\\">cookie \\u653f\\u7b56<\\/a>\\u3002\\u901a\\u8fc7\\u70b9\\u51fb\\u6b64\\u6a2a\\u5e45\\u4e0a\\u7684\\u201c\\u540c\\u610f\\u201d\\uff0c\\u5373\\u8868\\u793a\\u60a8\\u540c\\u610f\\u4f7f\\u7528 cookie\\uff0c\\u9664\\u975e\\u60a8\\u5df2\\u5c06\\u5b83\\u4eec\\u7981\\u7528\\u3002\",\"button\":\"\\u540c\\u610f\"};\n中国 - 纽约时报中文网 国际纵览\nvar adConfList = [], target = {\"edn\": \"cn\",\"typ\": \"sf\",\"plat\": \"web\",\"lan\": \"chi\",\"sub\": \"anon\",\"prop\": \"cnnyt\"}; adConfList.push( { \"index\": 0,\"size\": [[\"fluid\"],[728,90],[970,250],[970,90]],\"namespace\": \"29390238/cnnyt/china\",\"id\": \"nytcn-gpt-ad-TopAd-0\",\"pos\": \"top\" } ); adConfList.push( { \"index\": 1,\"size\": [[300,250],[300,600]],\"namespace\": \"29390238/cnnyt/china\",\"id\": \"nytcn-gpt-ad-MiddleRight-1\",\"pos\": \"\" } ); adConfList.push( { \"index\": 2,\"size\": [[300,250]],\"namespace\": \"29390238/cnnyt/china\",\"id\": \"nytcn-gpt-ad-Box1-2\",\"pos\": \"mktg\" } ); var dfpNameSpace = \"29390238/cnnyt\"; window.js_version=\"dcc53c7\"; var require = { urlArgs : \"v=\"+'dcc53c7' };\nvar fbId = '592202027582499'; var gwiqId = \"cid=c0297&site=cn\"; var cbSectionName = 'china'; var cbByline = '';\n(function(w,d,s,l,i){w[l]=w[l]||[];w[l].push({'gtm.start': new Date().getTime(),event:'gtm.js'});var f=d.getElementsByTagName(s)[0], j=d.createElement(s),dl=l!='dataLayer'?'&l='+l:'';j.async=true;j.src= 'https://www.googletagmanager.com/gtm.js?id='+i+dl;f.parentNode.insertBefore(j,f); })(window,document,'script','dataLayer','GTM-KTDZV8V'); var _sf_startpt=(new Date()).getTime() window._taboola = window._taboola || []; _taboola.push({article:'auto'}); !function (e, f, u) { e.async = 1; e.src = u; f.parentNode.insertBefore(e, f); }(document.createElement('script'), document.getElementsByTagName('script')[0], '//cdn.taboola.com/libtrc/nytimeschina/loader.js');\n简体 | 繁體\n移动应用 • Apps | 订阅新闻电邮\n中国\n首页\n国际\n亚太\n南亚\n美国\n美洲\n欧洲\n中东\n非洲\n中国\n时政\n经济\n社会\n中外关系\n港澳台\n商业与经济\n全球经济\n中国经济\n交易录\n镜头\n科技\n科技公司\n科技与你\n科学\n健康\n教育\n文化\n阅读\n艺术\n电影与电视\n体育\n风尚\n时尚\n美食与美酒\n生活方式\n旅游\n房地产\n观点与评论\n专栏作者\n观点\n漫画\n时报普利策获奖作品\n时政\n经济\n社会\n中外关系\n港澳台\n武警深圳练兵，北京对香港释放什么信号？\nSTEVEN LEE MYERS, 赫海威 17:39\nLam Yik Fei for The New York Times\n周五，装甲车在位于香港对岸的深圳湾体育中心集结。\n分析人士普遍认为，此次演习并不是军事干预的前奏，但说明为避免中国的领土主权受威胁，习近平将会采取行动。使用武力充满风险，但仍然是北京的一个选项。 阅读更多\n面对北京压力，香港企业和员工的选择与冲突\n黄瑞黎, RAYMOND ZHONG 13:38\n中国对香港拥有巨大的经济影响力。从国泰航空到四大会计事务所，企业在压力之下恪守规定，甚至与支持抗议活动的员工划清界限；它们的员工则积极发声。\n国泰航空CEO辞职说明了什么？\nRAYMOND ZHONG, EZRA CHEUNG 10:48\n国泰航空的改组凸显了香港经济对中国大陆资本和市场的严重依赖。随着抗议活动愈演愈烈，很多企业正在表明立场，它们站在中国政府和香港领导人一边，而不是支持抗议者。\n新闻分析\n特朗普为何与香港抗议运动保持距离？\nMICHAEL CROWLEY, 黄安伟\n特朗普不愿让人权和民主议题令其外交复杂化。他未对抗议表现出强烈的同情和支持，还称赞了习近平。这让他受到两党、国务院、欧洲盟友及白宫顾问的孤立。\n阿里巴巴业绩强劲，中国消费者仍在“买买买”\n黄瑞黎, RAYMOND ZHONG\n阿里第一财季营收增长42%，净利润同比增长一倍有余。经济学家指出，贸易战对中国劳动力市场总体没有太大影响；消费者在电子商务领域似乎仍然保持乐观。\n从香港前往大陆？你的手机可能会被检查\nRAYMOND ZHONG\n亲历者说，警方会查看照片、短信及微信等应用程序。搜查的目的尚不明确，但这种做法令人担忧，北京正在试图辨认同情抗议活动的游客，进一步控制国内民众对动乱的看法。\n渲染中国威胁，硅谷就是真的爱国吗？\nKEVIN ROOSE\n硅谷在进行一场巴结美国政府的竞赛，巨头们动机不一，有的为了游说反对监管，将中国描绘为一种出于国家利益必须击败的红色威胁。这种爱国姿态虽然可疑，却可能很明智。\n贸易战影响加剧，全球经济拉响衰退警报\nNELSON D. SCHWARTZ, JACK EWING, MATT PHILLIPS, STEPHEN GROCER\n德国经济迅速滑向衰退，中国的工厂产出增长创下新低，这在一定程度上表明了特朗普关税的破坏性影响。此外也有信号表明，美国经济这轮持续十年的扩张正在失去势头。\n“光复香港”背后的港人身份认同危机\nANDREW HIGGINS\n这场运动的根源在于97之后港人身份认同的巨变，年轻一代对中国的认同感日渐消失。喊出“光复香港”口号的梁天琦身陷囹圄，却成为运动中近乎指明灯的存在。\n机场暴力事件和混乱给香港经济蒙上新阴影\nRAYMOND ZHONG\n机场的混乱威胁到香港便捷可靠的交通，令原本已紧张不安的经济雪上加霜。预测者大幅下调了对经济增长的预期，企业和富豪已在重新权衡自己在香港的未来。\n新闻分析\n危机中的亚洲和特朗普的不作为\n黄安伟\n无论是印度、香港发生的内部争斗，还是日韩这两个美国盟友之间的较量，特朗普都选择置身事外。分析认为这充分体现了美国存在力量及国际影响力的消褪。\n特朗普评论香港局势，未批评北京政府\nMICHAEL CROWLEY\n特朗普称香港局势“非常困难”，但并未对抗议活动表现出明确立场。总统回避人权问题的做法受到批评，指其在默许一场可能是中国近三十年来最为残暴的民主异议镇压。\n香港抗议者就机场暴力事件道歉\n《纽约时报》\n抗议者就周二晚间的暴力事件以及抗议活动对机场正常运转造成的破坏道歉。机场管理局宣布已经取得法庭的命令，禁止任何人“有意图地阻碍或干扰”机场运作。\n香港机场，从城市骄傲变成骚乱中心\nGILLIAN WONG, MEGAN SPECIA\n20多年来，香港机场以井然有序、现代化和高效著称，是香港商业中心地位的象征之一，如今却因为抗议活动陷入瘫痪。抗议者表示，为向政府施压，他们只能封锁机场。\n中共如何对香港抗议者展开信息战\nSTEVEN LEE MYERS, 孟宝勒\n北京利用国家和社交媒体来煽动民族主义和反西方情绪，制造了一个与在香港看到的现实不同的版本。这种叙事正在加剧中国公众的误解，让他们越来越愤怒。\n美国将推迟加征部分对华关税\nANA SWANSON\n返校季和节日将近，来自企业和消费者群体的压力渐增，特朗普政府将对手机、笔记本电脑等商品加征的10%新关税推迟至12月15日，还有部分商品被从关税清单上移除。\n香港困局：极端立场下，抗议者与中共难和解\n赫海威, AMY QIN\n北京曾试图用“一国两制”将威权主义与香港的公民自由传统结合起来，这场骚乱暴露了其中固有的冲突。中共党内担忧分离主义的威胁可能削弱习近平的强硬形象。\n近期去香港旅行，你应该知道的7件事\nTARIRO MZEZEWA\n周一，香港机场因抗议陷入瘫痪，大量航班被取消。到香港旅行还安全吗？哪些航线受到了影响？如果你近期要搭乘飞机进出香港，以下是你需要知道的几个问题。\n多家奢侈品牌因“问题T恤”向中国道歉\nELIZABETH PATON\n因在T恤印花中把港澳台列为国家，范思哲、蔻驰、纪梵希等受到中国消费者的愤怒反对。香港抗议活动持续之际，有关中国领土主张和香港地位问题的政治敏感性日益加剧。\n我们距离下一次核军备竞赛有多远？\nSTEVEN ERLANGER\n美俄抛弃了冷战时期建立的军控架构，而把中国拉入三方军控谈判的可能性也越来越小。美国正增加在亚洲的导弹部署以威慑中国；中俄和其他区域力量则在迅速加强军备建设。\n1\n2\n3\n4\n5\n6\n7\n下一页 >>\n<div class=\"tabB\"> <div class=\"tabs\"> <a href=\"#tabC_mostView\" class=\"item active\">最受欢迎</a><a href=\"#tabC_mostViewedWeek\" class=\"inactive\">一周最热文章</a><a href=\"#tabC_mostViewedSlideshow\" class=\"inactive\">热门图集</a> </div> <div class=\"tab-content\"> <div id=\"tabC_mostView\" class=\"tab_c active\"> <ol class=\"hotStoryList\"> {#each list.daily as value#} <li><a href=\"{#value.url#}?utm_source=mostviewed-daily&utm_medium=cpc&utm_campaign=mostviewed\" title=\"{#value.headline#}\" class=\"daily_popular_{#value.type#}\">{#value.headline#}</a></li> {#/each#} </ol> </div> <div id=\"tabC_mostViewedWeek\" class=\"tab_c inactive\"> <ol class=\"hotStoryList\"> {#each list.weekly as value#} <li><a href=\"{#value.url#}?utm_source=mostviewed-daily&utm_medium=cpc&utm_campaign=mostviewed\" title=\"{#value.headline#}\" class=\"daily_popular_{#value.type#}\">{#value.headline#}</a></li> {#/each#} </ol> </div> <div id=\"tabC_mostViewedSlideshow\" class=\"tab_c inactive\"> <ol class=\"hotStoryList\"> {#each list.weekly_slideshow as value#} <li><a href=\"{#value.url#}?utm_source=mostviewed-daily&utm_medium=cpc&utm_campaign=mostviewed\" title=\"{#value.headline#}\" class=\"daily_popular_{#value.type#}\">{#value.headline#}</a></li> {#/each#} </ol> </div> </div> </div>\nwindow._taboola = window._taboola || []; _taboola.push({ mode: 'thumbnails-rr3', container: 'taboola-right-rail-thumbnails', placement: 'Right Rail Thumbnails', target_type: 'mix' });\nwindow._taboola = window._taboola || []; _taboola.push({flush: true});\n© 2019 The New York Times Company.\n广告\n关于我们\n联系我们\n隐私权声明\n服务条款\n版权声明\n意见反馈\nRSS\n点击下载iOS APP 扫描二维码下载iOS APP 点击下载Android APP 扫描二维码下载Android APP 点击下载Android APK 扫描二维码下载Android APK\n"
     ],
     "output_type": "stream"
    }
   ],
   "source": [
    "print(r.html.text)"
   ]
  },
  {
   "cell_type": "code",
   "execution_count": 81,
   "metadata": {
    "pycharm": {
     "is_executing": false
    }
   },
   "outputs": [
    {
     "data": {
      "text/plain": "{'/',\n '//cn.nytimes.com/topic/20160427/pulitzers-topic/?utm_source=news&utm_medium=nav&utm_campaign=nav-topic-nyt-pulitzer-prize',\n '/africa/',\n '/americas/',\n '/apps',\n '/art/',\n '/asia-pacific/',\n '/bits/',\n '/books/',\n '/business/',\n '/business/20190814/china-tariffs/',\n '/business/20190815/economy-world-trade/',\n '/business/20190819/cathay-pacific-ceo-resigns-rupert-hogg/',\n '/business/20190819/hong-kong-china-business-workers/',\n '/cartoon/',\n '/china-ec/',\n '/china/',\n '/china/2/',\n '/china/20190813/china-donatella-versace-t-shirt/',\n '/china/20190813/hong-kong-airport-flight-cancellations/',\n '/china/20190813/hong-kong-protests-communist-party/',\n '/china/20190814/hong-kong-airport-protests-apologies/',\n '/china/20190814/hong-kong-airport-protests/',\n '/china/20190814/hong-kong-protests-china/',\n '/china/20190815/hong-kong-economy-airport-protests/',\n '/china/20190815/hong-kong-protests-identity-china-edward-leung/',\n '/china/20190816/hong-kong-phone-searches/',\n '/china/20190819/hongkong-china-troops/',\n '/china/3/',\n '/china/4/',\n '/china/5/',\n '/china/6/',\n '/china/7/',\n '/china/zh-hant/',\n '/culture/',\n '/dealbook/',\n '/education/',\n '/europe/',\n '/fashion/',\n '/film-tv/',\n '/food-wine/',\n '/foreign-relations/',\n '/global-ec/',\n '/health/',\n '/help/about-us/',\n '/help/ad/',\n '/help/contact/',\n '/help/copyright-statement/',\n '/help/tos/',\n '/hk-taiwan/',\n '/lens/',\n '/lifestyle/',\n '/mideast/',\n '/op-column/',\n '/op-ed/',\n '/opinion/',\n '/personal-tech/',\n '/policy/',\n '/real-estate/',\n '/rss/',\n '/science/',\n '/society/',\n '/south-asia/',\n '/sports/',\n '/style/',\n '/technology/',\n '/technology/20190815/the-phony-patriots-of-silicon-valley/',\n '/technology/20190816/alibaba-earnings-trade-war/',\n '/travel/',\n '/usa/',\n '/usa/20190814/hong-kong-trump/',\n '/usa/20190814/trump-asia/',\n '/usa/20190816/trump-hong-kong/',\n '/world/',\n '/world/20190812/arms-race-russia-china/',\n 'https://help.nytimes.com/hc/en-us/articles/115014892108-Privacy-policy',\n 'https://itunes.apple.com/app/apple-store/id807498298?pt=13036&ct=news-hp&mt=8',\n 'https://nytcnapps.oss-cn-hongkong.aliyuncs.com/latest.apk',\n 'https://play.google.com/store/apps/details?id=com.nytimes.cn',\n 'https://sso.nytcn.me/email/?source=top-right',\n 'mailto:cn.help@nytimes.com?subject=FEEDBACK'}"
     },
     "metadata": {},
     "output_type": "execute_result",
     "execution_count": 81
    }
   ],
   "source": [
    "r.html.links"
   ]
  },
  {
   "cell_type": "code",
   "execution_count": 82,
   "metadata": {
    "pycharm": {
     "is_executing": false
    }
   },
   "outputs": [
    {
     "data": {
      "text/plain": "{'https://cn.nytimes.com/',\n 'https://cn.nytimes.com/africa/',\n 'https://cn.nytimes.com/americas/',\n 'https://cn.nytimes.com/apps',\n 'https://cn.nytimes.com/art/',\n 'https://cn.nytimes.com/asia-pacific/',\n 'https://cn.nytimes.com/bits/',\n 'https://cn.nytimes.com/books/',\n 'https://cn.nytimes.com/business/',\n 'https://cn.nytimes.com/business/20190814/china-tariffs/',\n 'https://cn.nytimes.com/business/20190815/economy-world-trade/',\n 'https://cn.nytimes.com/business/20190819/cathay-pacific-ceo-resigns-rupert-hogg/',\n 'https://cn.nytimes.com/business/20190819/hong-kong-china-business-workers/',\n 'https://cn.nytimes.com/cartoon/',\n 'https://cn.nytimes.com/china-ec/',\n 'https://cn.nytimes.com/china/',\n 'https://cn.nytimes.com/china/2/',\n 'https://cn.nytimes.com/china/20190813/china-donatella-versace-t-shirt/',\n 'https://cn.nytimes.com/china/20190813/hong-kong-airport-flight-cancellations/',\n 'https://cn.nytimes.com/china/20190813/hong-kong-protests-communist-party/',\n 'https://cn.nytimes.com/china/20190814/hong-kong-airport-protests-apologies/',\n 'https://cn.nytimes.com/china/20190814/hong-kong-airport-protests/',\n 'https://cn.nytimes.com/china/20190814/hong-kong-protests-china/',\n 'https://cn.nytimes.com/china/20190815/hong-kong-economy-airport-protests/',\n 'https://cn.nytimes.com/china/20190815/hong-kong-protests-identity-china-edward-leung/',\n 'https://cn.nytimes.com/china/20190816/hong-kong-phone-searches/',\n 'https://cn.nytimes.com/china/20190819/hongkong-china-troops/',\n 'https://cn.nytimes.com/china/3/',\n 'https://cn.nytimes.com/china/4/',\n 'https://cn.nytimes.com/china/5/',\n 'https://cn.nytimes.com/china/6/',\n 'https://cn.nytimes.com/china/7/',\n 'https://cn.nytimes.com/china/zh-hant/',\n 'https://cn.nytimes.com/culture/',\n 'https://cn.nytimes.com/dealbook/',\n 'https://cn.nytimes.com/education/',\n 'https://cn.nytimes.com/europe/',\n 'https://cn.nytimes.com/fashion/',\n 'https://cn.nytimes.com/film-tv/',\n 'https://cn.nytimes.com/food-wine/',\n 'https://cn.nytimes.com/foreign-relations/',\n 'https://cn.nytimes.com/global-ec/',\n 'https://cn.nytimes.com/health/',\n 'https://cn.nytimes.com/help/about-us/',\n 'https://cn.nytimes.com/help/ad/',\n 'https://cn.nytimes.com/help/contact/',\n 'https://cn.nytimes.com/help/copyright-statement/',\n 'https://cn.nytimes.com/help/tos/',\n 'https://cn.nytimes.com/hk-taiwan/',\n 'https://cn.nytimes.com/lens/',\n 'https://cn.nytimes.com/lifestyle/',\n 'https://cn.nytimes.com/mideast/',\n 'https://cn.nytimes.com/op-column/',\n 'https://cn.nytimes.com/op-ed/',\n 'https://cn.nytimes.com/opinion/',\n 'https://cn.nytimes.com/personal-tech/',\n 'https://cn.nytimes.com/policy/',\n 'https://cn.nytimes.com/real-estate/',\n 'https://cn.nytimes.com/rss/',\n 'https://cn.nytimes.com/science/',\n 'https://cn.nytimes.com/society/',\n 'https://cn.nytimes.com/south-asia/',\n 'https://cn.nytimes.com/sports/',\n 'https://cn.nytimes.com/style/',\n 'https://cn.nytimes.com/technology/',\n 'https://cn.nytimes.com/technology/20190815/the-phony-patriots-of-silicon-valley/',\n 'https://cn.nytimes.com/technology/20190816/alibaba-earnings-trade-war/',\n 'https://cn.nytimes.com/topic/20160427/pulitzers-topic/?utm_source=news&utm_medium=nav&utm_campaign=nav-topic-nyt-pulitzer-prize',\n 'https://cn.nytimes.com/travel/',\n 'https://cn.nytimes.com/usa/',\n 'https://cn.nytimes.com/usa/20190814/hong-kong-trump/',\n 'https://cn.nytimes.com/usa/20190814/trump-asia/',\n 'https://cn.nytimes.com/usa/20190816/trump-hong-kong/',\n 'https://cn.nytimes.com/world/',\n 'https://cn.nytimes.com/world/20190812/arms-race-russia-china/',\n 'https://help.nytimes.com/hc/en-us/articles/115014892108-Privacy-policy',\n 'https://itunes.apple.com/app/apple-store/id807498298?pt=13036&ct=news-hp&mt=8',\n 'https://nytcnapps.oss-cn-hongkong.aliyuncs.com/latest.apk',\n 'https://play.google.com/store/apps/details?id=com.nytimes.cn',\n 'https://sso.nytcn.me/email/?source=top-right',\n 'mailto://cn.nytimes.com/cn.help@nytimes.com?subject=FEEDBACK'}"
     },
     "metadata": {},
     "output_type": "execute_result",
     "execution_count": 82
    }
   ],
   "source": [
    "r.html.absolute_links"
   ]
  },
  {
   "cell_type": "code",
   "execution_count": 83,
   "metadata": {
    "pycharm": {
     "is_executing": false
    }
   },
   "outputs": [],
   "source": [
    "sel = '#sectionLeadPackage > div > div > h3 > a'"
   ]
  },
  {
   "cell_type": "code",
   "execution_count": 84,
   "metadata": {
    "pycharm": {
     "is_executing": false
    }
   },
   "outputs": [],
   "source": [
    "results = r.html.find(sel)"
   ]
  },
  {
   "cell_type": "code",
   "execution_count": 85,
   "metadata": {
    "pycharm": {
     "is_executing": false
    }
   },
   "outputs": [
    {
     "data": {
      "text/plain": "[<Element 'a' target='_blank' href='/china/20190819/hongkong-china-troops/' title='武警深圳练兵，北京对香港释放什么信号？'>]"
     },
     "metadata": {},
     "output_type": "execute_result",
     "execution_count": 85
    }
   ],
   "source": [
    "results"
   ]
  },
  {
   "cell_type": "code",
   "execution_count": 86,
   "metadata": {
    "pycharm": {
     "is_executing": false
    }
   },
   "outputs": [
    {
     "data": {
      "text/plain": "'武警深圳练兵，北京对香港释放什么信号？'"
     },
     "metadata": {},
     "output_type": "execute_result",
     "execution_count": 86
    }
   ],
   "source": [
    "results[0].text"
   ]
  },
  {
   "cell_type": "code",
   "execution_count": 87,
   "metadata": {
    "scrolled": true,
    "pycharm": {
     "is_executing": false
    }
   },
   "outputs": [
    {
     "data": {
      "text/plain": "{'https://cn.nytimes.com/china/20190819/hongkong-china-troops/'}"
     },
     "metadata": {},
     "output_type": "execute_result",
     "execution_count": 87
    }
   ],
   "source": [
    "results[0].absolute_links"
   ]
  },
  {
   "cell_type": "code",
   "execution_count": 88,
   "metadata": {
    "pycharm": {
     "is_executing": false
    }
   },
   "outputs": [
    {
     "data": {
      "text/plain": "'https://cn.nytimes.com/china/20190819/hongkong-china-troops/'"
     },
     "metadata": {},
     "output_type": "execute_result",
     "execution_count": 88
    }
   ],
   "source": [
    "list(results[0].absolute_links)[0]"
   ]
  },
  {
   "cell_type": "code",
   "execution_count": 89,
   "metadata": {
    "pycharm": {
     "is_executing": false
    }
   },
   "outputs": [],
   "source": [
    "def get_text_link_from_sel(sel):\n",
    "    mylist = []\n",
    "    try:\n",
    "        results = r.html.find(sel)\n",
    "        for result in results:\n",
    "            mytext = result.text\n",
    "            mylink = list(result.absolute_links)[0]\n",
    "            mylist.append((mytext, mylink))\n",
    "        return mylist\n",
    "    except:\n",
    "        return None"
   ]
  },
  {
   "cell_type": "code",
   "execution_count": 90,
   "metadata": {
    "pycharm": {
     "is_executing": false
    }
   },
   "outputs": [
    {
     "name": "stdout",
     "text": [
      "[('武警深圳练兵，北京对香港释放什么信号？', 'https://cn.nytimes.com/china/20190819/hongkong-china-troops/')]\n"
     ],
     "output_type": "stream"
    }
   ],
   "source": [
    "print(get_text_link_from_sel(sel))"
   ]
  },
  {
   "cell_type": "code",
   "execution_count": 91,
   "metadata": {
    "pycharm": {
     "is_executing": false
    }
   },
   "outputs": [],
   "source": [
    "sel1 = '#sectionLeadPackage > div > div > h3 > a'\n",
    "sel2 = '#sectionWrapper > div.cf.layoutAB > div.sectionAutoList.columnAplusB > div > ul > li > h3 > a'"
   ]
  },
  {
   "cell_type": "code",
   "execution_count": 105,
   "metadata": {
    "pycharm": {
     "is_executing": false
    }
   },
   "outputs": [],
   "source": [
    "a=get_text_link_from_sel(sel1)"
   ]
  },
  {
   "cell_type": "code",
   "execution_count": 106,
   "outputs": [],
   "source": [
    "for i in get_text_link_from_sel(sel2):\n",
    "    a.append(i)"
   ],
   "metadata": {
    "collapsed": false,
    "pycharm": {
     "name": "#%%\n",
     "is_executing": false
    }
   }
  },
  {
   "cell_type": "code",
   "execution_count": 107,
   "outputs": [
    {
     "data": {
      "text/plain": "[('面对北京压力，香港企业和员工的选择与冲突',\n  'https://cn.nytimes.com/business/20190819/hong-kong-china-business-workers/'),\n ('国泰航空CEO辞职说明了什么？',\n  'https://cn.nytimes.com/business/20190819/cathay-pacific-ceo-resigns-rupert-hogg/'),\n ('特朗普为何与香港抗议运动保持距离？', 'https://cn.nytimes.com/usa/20190816/trump-hong-kong/'),\n ('阿里巴巴业绩强劲，中国消费者仍在“买买买”',\n  'https://cn.nytimes.com/technology/20190816/alibaba-earnings-trade-war/'),\n ('从香港前往大陆？你的手机可能会被检查',\n  'https://cn.nytimes.com/china/20190816/hong-kong-phone-searches/'),\n ('渲染中国威胁，硅谷就是真的爱国吗？',\n  'https://cn.nytimes.com/technology/20190815/the-phony-patriots-of-silicon-valley/'),\n ('贸易战影响加剧，全球经济拉响衰退警报',\n  'https://cn.nytimes.com/business/20190815/economy-world-trade/'),\n ('“光复香港”背后的港人身份认同危机',\n  'https://cn.nytimes.com/china/20190815/hong-kong-protests-identity-china-edward-leung/'),\n ('机场暴力事件和混乱给香港经济蒙上新阴影',\n  'https://cn.nytimes.com/china/20190815/hong-kong-economy-airport-protests/'),\n ('危机中的亚洲和特朗普的不作为', 'https://cn.nytimes.com/usa/20190814/trump-asia/'),\n ('特朗普评论香港局势，未批评北京政府', 'https://cn.nytimes.com/usa/20190814/hong-kong-trump/'),\n ('香港抗议者就机场暴力事件道歉',\n  'https://cn.nytimes.com/china/20190814/hong-kong-airport-protests-apologies/'),\n ('香港机场，从城市骄傲变成骚乱中心',\n  'https://cn.nytimes.com/china/20190814/hong-kong-airport-protests/'),\n ('中共如何对香港抗议者展开信息战',\n  'https://cn.nytimes.com/china/20190814/hong-kong-protests-china/'),\n ('美国将推迟加征部分对华关税', 'https://cn.nytimes.com/business/20190814/china-tariffs/'),\n ('香港困局：极端立场下，抗议者与中共难和解',\n  'https://cn.nytimes.com/china/20190813/hong-kong-protests-communist-party/'),\n ('近期去香港旅行，你应该知道的7件事',\n  'https://cn.nytimes.com/china/20190813/hong-kong-airport-flight-cancellations/'),\n ('多家奢侈品牌因“问题T恤”向中国道歉',\n  'https://cn.nytimes.com/china/20190813/china-donatella-versace-t-shirt/'),\n ('我们距离下一次核军备竞赛有多远？',\n  'https://cn.nytimes.com/world/20190812/arms-race-russia-china/'),\n ('武警深圳练兵，北京对香港释放什么信号？',\n  'https://cn.nytimes.com/china/20190819/hongkong-china-troops/')]"
     },
     "metadata": {},
     "output_type": "execute_result",
     "execution_count": 107
    }
   ],
   "source": [
    "a\n"
   ],
   "metadata": {
    "collapsed": false,
    "pycharm": {
     "name": "#%%\n",
     "is_executing": false
    }
   }
  },
  {
   "cell_type": "code",
   "execution_count": 108,
   "metadata": {
    "pycharm": {
     "is_executing": false
    }
   },
   "outputs": [],
   "source": [
    "import pandas as pd"
   ]
  },
  {
   "cell_type": "code",
   "execution_count": 109,
   "metadata": {
    "pycharm": {
     "is_executing": false
    }
   },
   "outputs": [],
   "source": [
    "df = pd.DataFrame(a)"
   ]
  },
  {
   "cell_type": "code",
   "execution_count": 110,
   "metadata": {
    "pycharm": {
     "is_executing": false
    }
   },
   "outputs": [
    {
     "data": {
      "text/plain": "                        0                                                  1\n0     武警深圳练兵，北京对香港释放什么信号？  https://cn.nytimes.com/china/20190819/hongkong...\n1    面对北京压力，香港企业和员工的选择与冲突  https://cn.nytimes.com/business/20190819/hong-...\n2         国泰航空CEO辞职说明了什么？  https://cn.nytimes.com/business/20190819/catha...\n3       特朗普为何与香港抗议运动保持距离？  https://cn.nytimes.com/usa/20190816/trump-hong...\n4   阿里巴巴业绩强劲，中国消费者仍在“买买买”  https://cn.nytimes.com/technology/20190816/ali...\n5      从香港前往大陆？你的手机可能会被检查  https://cn.nytimes.com/china/20190816/hong-kon...\n6       渲染中国威胁，硅谷就是真的爱国吗？  https://cn.nytimes.com/technology/20190815/the...\n7      贸易战影响加剧，全球经济拉响衰退警报  https://cn.nytimes.com/business/20190815/econo...\n8       “光复香港”背后的港人身份认同危机  https://cn.nytimes.com/china/20190815/hong-kon...\n9     机场暴力事件和混乱给香港经济蒙上新阴影  https://cn.nytimes.com/china/20190815/hong-kon...\n10         危机中的亚洲和特朗普的不作为    https://cn.nytimes.com/usa/20190814/trump-asia/\n11      特朗普评论香港局势，未批评北京政府  https://cn.nytimes.com/usa/20190814/hong-kong-...\n12         香港抗议者就机场暴力事件道歉  https://cn.nytimes.com/china/20190814/hong-kon...\n13       香港机场，从城市骄傲变成骚乱中心  https://cn.nytimes.com/china/20190814/hong-kon...\n14        中共如何对香港抗议者展开信息战  https://cn.nytimes.com/china/20190814/hong-kon...\n15          美国将推迟加征部分对华关税  https://cn.nytimes.com/business/20190814/china...\n16   香港困局：极端立场下，抗议者与中共难和解  https://cn.nytimes.com/china/20190813/hong-kon...\n17      近期去香港旅行，你应该知道的7件事  https://cn.nytimes.com/china/20190813/hong-kon...\n18     多家奢侈品牌因“问题T恤”向中国道歉  https://cn.nytimes.com/china/20190813/china-do...\n19       我们距离下一次核军备竞赛有多远？  https://cn.nytimes.com/world/20190812/arms-rac...",
      "text/html": "<div>\n<style scoped>\n    .dataframe tbody tr th:only-of-type {\n        vertical-align: middle;\n    }\n\n    .dataframe tbody tr th {\n        vertical-align: top;\n    }\n\n    .dataframe thead th {\n        text-align: right;\n    }\n</style>\n<table border=\"1\" class=\"dataframe\">\n  <thead>\n    <tr style=\"text-align: right;\">\n      <th></th>\n      <th>0</th>\n      <th>1</th>\n    </tr>\n  </thead>\n  <tbody>\n    <tr>\n      <th>0</th>\n      <td>武警深圳练兵，北京对香港释放什么信号？</td>\n      <td>https://cn.nytimes.com/china/20190819/hongkong...</td>\n    </tr>\n    <tr>\n      <th>1</th>\n      <td>面对北京压力，香港企业和员工的选择与冲突</td>\n      <td>https://cn.nytimes.com/business/20190819/hong-...</td>\n    </tr>\n    <tr>\n      <th>2</th>\n      <td>国泰航空CEO辞职说明了什么？</td>\n      <td>https://cn.nytimes.com/business/20190819/catha...</td>\n    </tr>\n    <tr>\n      <th>3</th>\n      <td>特朗普为何与香港抗议运动保持距离？</td>\n      <td>https://cn.nytimes.com/usa/20190816/trump-hong...</td>\n    </tr>\n    <tr>\n      <th>4</th>\n      <td>阿里巴巴业绩强劲，中国消费者仍在“买买买”</td>\n      <td>https://cn.nytimes.com/technology/20190816/ali...</td>\n    </tr>\n    <tr>\n      <th>5</th>\n      <td>从香港前往大陆？你的手机可能会被检查</td>\n      <td>https://cn.nytimes.com/china/20190816/hong-kon...</td>\n    </tr>\n    <tr>\n      <th>6</th>\n      <td>渲染中国威胁，硅谷就是真的爱国吗？</td>\n      <td>https://cn.nytimes.com/technology/20190815/the...</td>\n    </tr>\n    <tr>\n      <th>7</th>\n      <td>贸易战影响加剧，全球经济拉响衰退警报</td>\n      <td>https://cn.nytimes.com/business/20190815/econo...</td>\n    </tr>\n    <tr>\n      <th>8</th>\n      <td>“光复香港”背后的港人身份认同危机</td>\n      <td>https://cn.nytimes.com/china/20190815/hong-kon...</td>\n    </tr>\n    <tr>\n      <th>9</th>\n      <td>机场暴力事件和混乱给香港经济蒙上新阴影</td>\n      <td>https://cn.nytimes.com/china/20190815/hong-kon...</td>\n    </tr>\n    <tr>\n      <th>10</th>\n      <td>危机中的亚洲和特朗普的不作为</td>\n      <td>https://cn.nytimes.com/usa/20190814/trump-asia/</td>\n    </tr>\n    <tr>\n      <th>11</th>\n      <td>特朗普评论香港局势，未批评北京政府</td>\n      <td>https://cn.nytimes.com/usa/20190814/hong-kong-...</td>\n    </tr>\n    <tr>\n      <th>12</th>\n      <td>香港抗议者就机场暴力事件道歉</td>\n      <td>https://cn.nytimes.com/china/20190814/hong-kon...</td>\n    </tr>\n    <tr>\n      <th>13</th>\n      <td>香港机场，从城市骄傲变成骚乱中心</td>\n      <td>https://cn.nytimes.com/china/20190814/hong-kon...</td>\n    </tr>\n    <tr>\n      <th>14</th>\n      <td>中共如何对香港抗议者展开信息战</td>\n      <td>https://cn.nytimes.com/china/20190814/hong-kon...</td>\n    </tr>\n    <tr>\n      <th>15</th>\n      <td>美国将推迟加征部分对华关税</td>\n      <td>https://cn.nytimes.com/business/20190814/china...</td>\n    </tr>\n    <tr>\n      <th>16</th>\n      <td>香港困局：极端立场下，抗议者与中共难和解</td>\n      <td>https://cn.nytimes.com/china/20190813/hong-kon...</td>\n    </tr>\n    <tr>\n      <th>17</th>\n      <td>近期去香港旅行，你应该知道的7件事</td>\n      <td>https://cn.nytimes.com/china/20190813/hong-kon...</td>\n    </tr>\n    <tr>\n      <th>18</th>\n      <td>多家奢侈品牌因“问题T恤”向中国道歉</td>\n      <td>https://cn.nytimes.com/china/20190813/china-do...</td>\n    </tr>\n    <tr>\n      <th>19</th>\n      <td>我们距离下一次核军备竞赛有多远？</td>\n      <td>https://cn.nytimes.com/world/20190812/arms-rac...</td>\n    </tr>\n  </tbody>\n</table>\n</div>"
     },
     "metadata": {},
     "output_type": "execute_result",
     "execution_count": 110
    }
   ],
   "source": [
    "df"
   ]
  },
  {
   "cell_type": "code",
   "execution_count": 111,
   "metadata": {
    "pycharm": {
     "is_executing": false
    }
   },
   "outputs": [],
   "source": [
    "df.columns = ['text', 'link']"
   ]
  },
  {
   "cell_type": "code",
   "execution_count": 112,
   "metadata": {
    "pycharm": {
     "is_executing": false
    }
   },
   "outputs": [
    {
     "data": {
      "text/plain": "                     text                                               link\n0     武警深圳练兵，北京对香港释放什么信号？  https://cn.nytimes.com/china/20190819/hongkong...\n1    面对北京压力，香港企业和员工的选择与冲突  https://cn.nytimes.com/business/20190819/hong-...\n2         国泰航空CEO辞职说明了什么？  https://cn.nytimes.com/business/20190819/catha...\n3       特朗普为何与香港抗议运动保持距离？  https://cn.nytimes.com/usa/20190816/trump-hong...\n4   阿里巴巴业绩强劲，中国消费者仍在“买买买”  https://cn.nytimes.com/technology/20190816/ali...\n5      从香港前往大陆？你的手机可能会被检查  https://cn.nytimes.com/china/20190816/hong-kon...\n6       渲染中国威胁，硅谷就是真的爱国吗？  https://cn.nytimes.com/technology/20190815/the...\n7      贸易战影响加剧，全球经济拉响衰退警报  https://cn.nytimes.com/business/20190815/econo...\n8       “光复香港”背后的港人身份认同危机  https://cn.nytimes.com/china/20190815/hong-kon...\n9     机场暴力事件和混乱给香港经济蒙上新阴影  https://cn.nytimes.com/china/20190815/hong-kon...\n10         危机中的亚洲和特朗普的不作为    https://cn.nytimes.com/usa/20190814/trump-asia/\n11      特朗普评论香港局势，未批评北京政府  https://cn.nytimes.com/usa/20190814/hong-kong-...\n12         香港抗议者就机场暴力事件道歉  https://cn.nytimes.com/china/20190814/hong-kon...\n13       香港机场，从城市骄傲变成骚乱中心  https://cn.nytimes.com/china/20190814/hong-kon...\n14        中共如何对香港抗议者展开信息战  https://cn.nytimes.com/china/20190814/hong-kon...\n15          美国将推迟加征部分对华关税  https://cn.nytimes.com/business/20190814/china...\n16   香港困局：极端立场下，抗议者与中共难和解  https://cn.nytimes.com/china/20190813/hong-kon...\n17      近期去香港旅行，你应该知道的7件事  https://cn.nytimes.com/china/20190813/hong-kon...\n18     多家奢侈品牌因“问题T恤”向中国道歉  https://cn.nytimes.com/china/20190813/china-do...\n19       我们距离下一次核军备竞赛有多远？  https://cn.nytimes.com/world/20190812/arms-rac...",
      "text/html": "<div>\n<style scoped>\n    .dataframe tbody tr th:only-of-type {\n        vertical-align: middle;\n    }\n\n    .dataframe tbody tr th {\n        vertical-align: top;\n    }\n\n    .dataframe thead th {\n        text-align: right;\n    }\n</style>\n<table border=\"1\" class=\"dataframe\">\n  <thead>\n    <tr style=\"text-align: right;\">\n      <th></th>\n      <th>text</th>\n      <th>link</th>\n    </tr>\n  </thead>\n  <tbody>\n    <tr>\n      <th>0</th>\n      <td>武警深圳练兵，北京对香港释放什么信号？</td>\n      <td>https://cn.nytimes.com/china/20190819/hongkong...</td>\n    </tr>\n    <tr>\n      <th>1</th>\n      <td>面对北京压力，香港企业和员工的选择与冲突</td>\n      <td>https://cn.nytimes.com/business/20190819/hong-...</td>\n    </tr>\n    <tr>\n      <th>2</th>\n      <td>国泰航空CEO辞职说明了什么？</td>\n      <td>https://cn.nytimes.com/business/20190819/catha...</td>\n    </tr>\n    <tr>\n      <th>3</th>\n      <td>特朗普为何与香港抗议运动保持距离？</td>\n      <td>https://cn.nytimes.com/usa/20190816/trump-hong...</td>\n    </tr>\n    <tr>\n      <th>4</th>\n      <td>阿里巴巴业绩强劲，中国消费者仍在“买买买”</td>\n      <td>https://cn.nytimes.com/technology/20190816/ali...</td>\n    </tr>\n    <tr>\n      <th>5</th>\n      <td>从香港前往大陆？你的手机可能会被检查</td>\n      <td>https://cn.nytimes.com/china/20190816/hong-kon...</td>\n    </tr>\n    <tr>\n      <th>6</th>\n      <td>渲染中国威胁，硅谷就是真的爱国吗？</td>\n      <td>https://cn.nytimes.com/technology/20190815/the...</td>\n    </tr>\n    <tr>\n      <th>7</th>\n      <td>贸易战影响加剧，全球经济拉响衰退警报</td>\n      <td>https://cn.nytimes.com/business/20190815/econo...</td>\n    </tr>\n    <tr>\n      <th>8</th>\n      <td>“光复香港”背后的港人身份认同危机</td>\n      <td>https://cn.nytimes.com/china/20190815/hong-kon...</td>\n    </tr>\n    <tr>\n      <th>9</th>\n      <td>机场暴力事件和混乱给香港经济蒙上新阴影</td>\n      <td>https://cn.nytimes.com/china/20190815/hong-kon...</td>\n    </tr>\n    <tr>\n      <th>10</th>\n      <td>危机中的亚洲和特朗普的不作为</td>\n      <td>https://cn.nytimes.com/usa/20190814/trump-asia/</td>\n    </tr>\n    <tr>\n      <th>11</th>\n      <td>特朗普评论香港局势，未批评北京政府</td>\n      <td>https://cn.nytimes.com/usa/20190814/hong-kong-...</td>\n    </tr>\n    <tr>\n      <th>12</th>\n      <td>香港抗议者就机场暴力事件道歉</td>\n      <td>https://cn.nytimes.com/china/20190814/hong-kon...</td>\n    </tr>\n    <tr>\n      <th>13</th>\n      <td>香港机场，从城市骄傲变成骚乱中心</td>\n      <td>https://cn.nytimes.com/china/20190814/hong-kon...</td>\n    </tr>\n    <tr>\n      <th>14</th>\n      <td>中共如何对香港抗议者展开信息战</td>\n      <td>https://cn.nytimes.com/china/20190814/hong-kon...</td>\n    </tr>\n    <tr>\n      <th>15</th>\n      <td>美国将推迟加征部分对华关税</td>\n      <td>https://cn.nytimes.com/business/20190814/china...</td>\n    </tr>\n    <tr>\n      <th>16</th>\n      <td>香港困局：极端立场下，抗议者与中共难和解</td>\n      <td>https://cn.nytimes.com/china/20190813/hong-kon...</td>\n    </tr>\n    <tr>\n      <th>17</th>\n      <td>近期去香港旅行，你应该知道的7件事</td>\n      <td>https://cn.nytimes.com/china/20190813/hong-kon...</td>\n    </tr>\n    <tr>\n      <th>18</th>\n      <td>多家奢侈品牌因“问题T恤”向中国道歉</td>\n      <td>https://cn.nytimes.com/china/20190813/china-do...</td>\n    </tr>\n    <tr>\n      <th>19</th>\n      <td>我们距离下一次核军备竞赛有多远？</td>\n      <td>https://cn.nytimes.com/world/20190812/arms-rac...</td>\n    </tr>\n  </tbody>\n</table>\n</div>"
     },
     "metadata": {},
     "output_type": "execute_result",
     "execution_count": 112
    }
   ],
   "source": [
    "df"
   ]
  },
  {
   "cell_type": "code",
   "execution_count": 113,
   "metadata": {
    "pycharm": {
     "is_executing": false
    }
   },
   "outputs": [],
   "source": [
    "df.to_csv('output.csv', encoding='gbk', index=False)"
   ]
  },
  {
   "cell_type": "code",
   "execution_count": 100,
   "metadata": {
    "pycharm": {
     "is_executing": false
    }
   },
   "outputs": [],
   "source": []
  }
 ],
 "metadata": {
  "kernelspec": {
   "display_name": "Python 3",
   "language": "python",
   "name": "python3"
  },
  "language_info": {
   "codemirror_mode": {
    "name": "ipython",
    "version": 3
   },
   "file_extension": ".py",
   "mimetype": "text/x-python",
   "name": "python",
   "nbconvert_exporter": "python",
   "pygments_lexer": "ipython3",
   "version": "3.6.6"
  },
  "pycharm": {
   "stem_cell": {
    "cell_type": "raw",
    "source": [],
    "metadata": {
     "collapsed": false
    }
   }
  }
 },
 "nbformat": 4,
 "nbformat_minor": 2
}