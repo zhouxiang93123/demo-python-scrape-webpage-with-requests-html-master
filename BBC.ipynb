{
 "cells": [
  {
   "cell_type": "code",
   "execution_count": 2,
   "outputs": [],
   "source": [
    "from requests_html import HTMLSession"
   ],
   "metadata": {
    "collapsed": false,
    "pycharm": {
     "name": "#%%\n",
     "is_executing": false
    }
   }
  },
  {
   "cell_type": "code",
   "execution_count": 3,
   "outputs": [],
   "source": [
    "session = HTMLSession()"
   ],
   "metadata": {
    "collapsed": false,
    "pycharm": {
     "name": "#%%\n",
     "is_executing": false
    }
   }
  },
  {
   "cell_type": "code",
   "execution_count": 4,
   "outputs": [],
   "source": [
    "url = 'https://cn.nytimes.com/china/'"
   ],
   "metadata": {
    "collapsed": false,
    "pycharm": {
     "name": "#%%\n",
     "is_executing": false
    }
   }
  },
  {
   "cell_type": "code",
   "execution_count": 5,
   "outputs": [],
   "source": [
    "r = session.get(url)"
   ],
   "metadata": {
    "collapsed": false,
    "pycharm": {
     "name": "#%%\n",
     "is_executing": false
    }
   }
  },
  {
   "cell_type": "code",
   "execution_count": 6,
   "outputs": [
    {
     "data": {
      "text/plain": "{'/',\n '//cn.nytimes.com/topic/20160427/pulitzers-topic/?utm_source=news&utm_medium=nav&utm_campaign=nav-topic-nyt-pulitzer-prize',\n '/africa/',\n '/americas/',\n '/apps',\n '/art/',\n '/asia-pacific/',\n '/bits/',\n '/books/',\n '/business/',\n '/business/20190814/china-tariffs/',\n '/business/20190815/economy-world-trade/',\n '/business/20190819/cathay-pacific-ceo-resigns-rupert-hogg/',\n '/business/20190819/hong-kong-china-business-workers/',\n '/cartoon/',\n '/china-ec/',\n '/china/',\n '/china/2/',\n '/china/20190813/china-donatella-versace-t-shirt/',\n '/china/20190813/hong-kong-airport-flight-cancellations/',\n '/china/20190813/hong-kong-protests-communist-party/',\n '/china/20190814/hong-kong-airport-protests-apologies/',\n '/china/20190814/hong-kong-airport-protests/',\n '/china/20190814/hong-kong-protests-china/',\n '/china/20190815/hong-kong-economy-airport-protests/',\n '/china/20190815/hong-kong-protests-identity-china-edward-leung/',\n '/china/20190816/hong-kong-phone-searches/',\n '/china/20190819/hongkong-china-troops/',\n '/china/3/',\n '/china/4/',\n '/china/5/',\n '/china/6/',\n '/china/7/',\n '/china/zh-hant/',\n '/culture/',\n '/dealbook/',\n '/education/',\n '/europe/',\n '/fashion/',\n '/film-tv/',\n '/food-wine/',\n '/foreign-relations/',\n '/global-ec/',\n '/health/',\n '/help/about-us/',\n '/help/ad/',\n '/help/contact/',\n '/help/copyright-statement/',\n '/help/tos/',\n '/hk-taiwan/',\n '/lens/',\n '/lifestyle/',\n '/mideast/',\n '/op-column/',\n '/op-ed/',\n '/opinion/',\n '/personal-tech/',\n '/policy/',\n '/real-estate/',\n '/rss/',\n '/science/',\n '/society/',\n '/south-asia/',\n '/sports/',\n '/style/',\n '/technology/',\n '/technology/20190815/the-phony-patriots-of-silicon-valley/',\n '/technology/20190816/alibaba-earnings-trade-war/',\n '/travel/',\n '/usa/',\n '/usa/20190814/hong-kong-trump/',\n '/usa/20190814/trump-asia/',\n '/usa/20190816/trump-hong-kong/',\n '/world/',\n '/world/20190812/arms-race-russia-china/',\n 'https://help.nytimes.com/hc/en-us/articles/115014892108-Privacy-policy',\n 'https://itunes.apple.com/app/apple-store/id807498298?pt=13036&ct=news-hp&mt=8',\n 'https://nytcnapps.oss-cn-hongkong.aliyuncs.com/latest.apk',\n 'https://play.google.com/store/apps/details?id=com.nytimes.cn',\n 'https://sso.nytcn.me/email/?source=top-right',\n 'mailto:cn.help@nytimes.com?subject=FEEDBACK'}"
     },
     "metadata": {},
     "output_type": "execute_result",
     "execution_count": 6
    }
   ],
   "source": [
    "r.html.links"
   ],
   "metadata": {
    "collapsed": false,
    "pycharm": {
     "name": "#%%\n",
     "is_executing": false
    }
   }
  },
  {
   "cell_type": "code",
   "execution_count": null,
   "outputs": [],
   "source": [
    "r.html.absolute_links"
   ],
   "metadata": {
    "collapsed": false,
    "pycharm": {
     "name": "#%%\n"
    }
   }
  },
  {
   "cell_type": "code",
   "execution_count": 234,
   "outputs": [],
   "source": [
    "sel='#afternoon > ol > li'"
   ],
   "metadata": {
    "collapsed": false,
    "pycharm": {
     "name": "#%%\n",
     "is_executing": false
    }
   }
  },
  {
   "cell_type": "code",
   "execution_count": 235,
   "outputs": [],
   "source": [
    "results = r.html.find(sel)"
   ],
   "metadata": {
    "collapsed": false,
    "pycharm": {
     "name": "#%%\n",
     "is_executing": false
    }
   }
  },
  {
   "cell_type": "code",
   "execution_count": 236,
   "outputs": [
    {
     "data": {
      "text/plain": "<Element 'li' >"
     },
     "metadata": {},
     "output_type": "execute_result",
     "execution_count": 236
    }
   ],
   "source": [
    "results[12]"
   ],
   "metadata": {
    "collapsed": false,
    "pycharm": {
     "name": "#%%\n",
     "is_executing": false
    }
   }
  },
  {
   "cell_type": "code",
   "execution_count": 237,
   "outputs": [
    {
     "data": {
      "text/plain": "\"15:06GMT+08:00\\nNewsday—China's Hong Kong and Macau office to give rare statement about the situation in Hong Kong\\nIt's the agency's first major news conference since Hong Kong was handed back to China\""
     },
     "metadata": {},
     "output_type": "execute_result",
     "execution_count": 237
    }
   ],
   "source": [
    "results[11].text"
   ],
   "metadata": {
    "collapsed": false,
    "pycharm": {
     "name": "#%%\n",
     "is_executing": false
    }
   }
  },
  {
   "cell_type": "code",
   "execution_count": 238,
   "outputs": [
    {
     "data": {
      "text/plain": "'15:30GMT+08:00\\nBBC News Summary—2019/07/29 07:30 GMT\\nThe latest two minute news summary from BBC World Service.'"
     },
     "metadata": {},
     "output_type": "execute_result",
     "execution_count": 238
    }
   ],
   "source": [
    "results[12].text"
   ],
   "metadata": {
    "collapsed": false,
    "pycharm": {
     "name": "#%%\n",
     "is_executing": false
    }
   }
  },
  {
   "cell_type": "code",
   "execution_count": 239,
   "outputs": [
    {
     "data": {
      "text/plain": "'15:32GMT+08:00\\nOn air\\nListen live\\nBusiness Daily—29/07/2019 GMT\\nThe daily drama of money and work from the BBC.\\nListen live'"
     },
     "metadata": {},
     "output_type": "execute_result",
     "execution_count": 239
    }
   ],
   "source": [
    "results[13].text"
   ],
   "metadata": {
    "collapsed": false,
    "pycharm": {
     "name": "#%%\n",
     "is_executing": false
    }
   }
  },
  {
   "cell_type": "code",
   "execution_count": 240,
   "outputs": [],
   "source": [
    "def get_text_link_from_sel(sel):\n",
    "    mylist = []\n",
    "    try:\n",
    "        results = r.html.find(sel)\n",
    "        for result in results:\n",
    "            mytext = result.text\n",
    "            myItems=mytext.split('\\n')\n",
    "            \n",
    "            for link in result.absolute_links:\n",
    "                if 'programmes' in link:\n",
    "                    mylink = link\n",
    "                    mylist.append((tuple(myItems)+ (mylink,)))\n",
    "        return mylist\n",
    "    except:\n",
    "        return None\n",
    "\n",
    "selEar = '#early > ol > li'\n",
    "selMor = '#morning > ol > li'\n",
    "selAft = '#afternoon > ol > li'\n",
    "selEve = '#evening > ol > li'\n",
    "selLat = '#late > ol > li'"
   ],
   "metadata": {
    "collapsed": false,
    "pycharm": {
     "name": "#%%\n",
     "is_executing": false
    }
   }
  },
  {
   "cell_type": "code",
   "execution_count": 241,
   "outputs": [],
   "source": [
    "audioList=get_text_link_from_sel(selEar)"
   ],
   "metadata": {
    "collapsed": false,
    "pycharm": {
     "name": "#%%\n",
     "is_executing": false
    }
   }
  },
  {
   "cell_type": "code",
   "execution_count": 242,
   "outputs": [],
   "source": [
    "audioList.extend(get_text_link_from_sel(selMor))"
   ],
   "metadata": {
    "collapsed": false,
    "pycharm": {
     "name": "#%%\n",
     "is_executing": false
    }
   }
  },
  {
   "cell_type": "code",
   "execution_count": 243,
   "outputs": [],
   "source": [
    "audioList.extend(get_text_link_from_sel(selAft))"
   ],
   "metadata": {
    "collapsed": false,
    "pycharm": {
     "name": "#%%\n",
     "is_executing": false
    }
   }
  },
  {
   "cell_type": "code",
   "execution_count": 244,
   "outputs": [],
   "source": [
    "audioList.extend(get_text_link_from_sel(selEve))"
   ],
   "metadata": {
    "collapsed": false,
    "pycharm": {
     "name": "#%%\n",
     "is_executing": false
    }
   }
  },
  {
   "cell_type": "code",
   "execution_count": 245,
   "outputs": [],
   "source": [
    "audioList.extend(get_text_link_from_sel(selLat))"
   ],
   "metadata": {
    "collapsed": false,
    "pycharm": {
     "name": "#%%\n",
     "is_executing": false
    }
   }
  },
  {
   "cell_type": "code",
   "execution_count": 246,
   "outputs": [],
   "source": [
    "import pandas as pd"
   ],
   "metadata": {
    "collapsed": false,
    "pycharm": {
     "name": "#%%\n",
     "is_executing": false
    }
   }
  },
  {
   "cell_type": "code",
   "execution_count": 247,
   "outputs": [],
   "source": [
    "df = pd.DataFrame(audioList)"
   ],
   "metadata": {
    "collapsed": false,
    "pycharm": {
     "name": "#%%\n",
     "is_executing": false
    }
   }
  },
  {
   "cell_type": "code",
   "execution_count": 248,
   "outputs": [
    {
     "data": {
      "text/plain": "                 0                                                  1  \\\n0   00:00GMT+08:00                      BBC News—2019/07/28 16:01 GMT   \n1   00:06GMT+08:00                 Sportsworld—The Sportsworld Report   \n2   01:00GMT+08:00                      BBC News—2019/07/28 17:01 GMT   \n3   01:06GMT+08:00  Sportsworld—Adventures in Guam: The 2022 World...   \n4   02:00GMT+08:00                      BBC News—2019/07/28 18:01 GMT   \n5   02:06GMT+08:00                        The Newsroom—28/07/2019 GMT   \n6   02:30GMT+08:00              BBC News Summary—2019/07/28 18:30 GMT   \n7   02:32GMT+08:00                In the Balance—How to give feedback   \n8   03:00GMT+08:00                      BBC News—2019/07/28 19:01 GMT   \n9   03:06GMT+08:00            Music Extra—How the world changed music   \n10  04:00GMT+08:00                      BBC News—2019/07/28 20:01 GMT   \n11  04:06GMT+08:00  Newshour—Baltimore residents defend city after...   \n12  05:00GMT+08:00                      BBC News—2019/07/28 21:01 GMT   \n13  05:06GMT+08:00  The Cultural Frontline—Come together: How musi...   \n14  05:30GMT+08:00              BBC News Summary—2019/07/28 21:30 GMT   \n15  05:32GMT+08:00                              In the Dark—Episode 1   \n16  05:50GMT+08:00  50 Things That Made the Modern Economy—Postage...   \n17  06:00GMT+08:00                      BBC News—2019/07/28 22:01 GMT   \n18  06:06GMT+08:00                        The Newsroom—28/07/2019 GMT   \n19  06:20GMT+08:00                         Sports News—28/07/2019 GMT   \n20  06:30GMT+08:00              BBC News Summary—2019/07/28 22:30 GMT   \n21  06:32GMT+08:00               Heart and Soul—Walking on a hot coil   \n22  07:00GMT+08:00                      BBC News—2019/07/28 23:01 GMT   \n23  07:06GMT+08:00  People Fixing the World—Stopping child marriag...   \n24  07:30GMT+08:00              BBC News Summary—2019/07/28 23:30 GMT   \n25  07:32GMT+08:00                  Discovery—What next for the Moon?   \n26  08:00GMT+08:00                      BBC News—2019/07/29 00:01 GMT   \n27  08:06GMT+08:00  World Business Report—Trade talks to continue ...   \n28  08:30GMT+08:00              BBC News Summary—2019/07/29 00:30 GMT   \n29  08:32GMT+08:00    Science in Action—The human danger – for sharks   \n..             ...                                                ...   \n67  20:06GMT+08:00                        The Newsroom—29/07/2019 GMT   \n68  20:30GMT+08:00              BBC News Summary—2019/07/29 12:30 GMT   \n69  20:32GMT+08:00       The Why Factor—Why does nature calm anxiety?   \n70  20:50GMT+08:00  More or Less—Pregnancy prohibitions – the evid...   \n71  21:00GMT+08:00                      BBC News—2019/07/29 13:01 GMT   \n72  21:06GMT+08:00                            Newshour—29/07/2019 GMT   \n73  22:00GMT+08:00                      BBC News—2019/07/29 14:01 GMT   \n74  22:06GMT+08:00                            HARDtalk—29/07/2019 GMT   \n75  22:30GMT+08:00              BBC News Summary—2019/07/29 14:30 GMT   \n76  22:32GMT+08:00  World Business Report—First broadcast 2019/07/...   \n77  23:00GMT+08:00                      BBC News—2019/07/29 15:01 GMT   \n78  23:06GMT+08:00                              BBC OS—29/07/2019 GMT   \n79  00:00GMT+08:00                      BBC News—2019/07/29 16:01 GMT   \n80  00:06GMT+08:00                              BBC OS—29/07/2019 GMT   \n81  01:00GMT+08:00                      BBC News—2019/07/29 17:01 GMT   \n82  01:06GMT+08:00                             Outlook—29/07/2019 GMT   \n83  02:00GMT+08:00                      BBC News—2019/07/29 18:01 GMT   \n84  02:06GMT+08:00                        The Newsroom—29/07/2019 GMT   \n85  02:30GMT+08:00              BBC News Summary—2019/07/29 18:30 GMT   \n86  02:32GMT+08:00                         Sport Today—2019/07/29 GMT   \n87  03:00GMT+08:00                      BBC News—2019/07/29 19:01 GMT   \n88  03:06GMT+08:00                            HARDtalk—29/07/2019 GMT   \n89  03:30GMT+08:00              BBC News Summary—2019/07/29 19:30 GMT   \n90  03:32GMT+08:00                           Discovery—29/07/2019 GMT   \n91  04:00GMT+08:00                      BBC News—2019/07/29 20:01 GMT   \n92  04:06GMT+08:00                            Newshour—29/07/2019 GMT   \n93  05:00GMT+08:00                      BBC News—2019/07/29 21:01 GMT   \n94  05:06GMT+08:00       The Why Factor—Why does nature calm anxiety?   \n95  05:30GMT+08:00              BBC News Summary—2019/07/29 21:30 GMT   \n96  05:32GMT+08:00   The Conversation—Women living with schizophrenia   \n\n                                                    2  \\\n0   The latest five minute news bulletin from BBC ...   \n1   The day's top stories from around the world wi...   \n2   The latest five minute news bulletin from BBC ...   \n3   Mani Djazmi travels to the island of Guam for ...   \n4   The latest five minute news bulletin from BBC ...   \n5   The world's Newsroom brings you global events ...   \n6   The latest two minute news summary from BBC Wo...   \n7   How difficult is it to give and receive feedba...   \n8   The latest five minute news bulletin from BBC ...   \n9   Discover how social, economic and cultural for...   \n10  The latest five minute news bulletin from BBC ...   \n11  The President described Baltimore as a \"rodent...   \n12  The latest five minute news bulletin from BBC ...   \n13  We explore the world of music festivals from U...   \n14  The latest two minute news summary from BBC Wo...   \n15  Why has one man been tried six times for the s...   \n16  How a disgruntled customer revolutionised the ...   \n17  The latest five minute news bulletin from BBC ...   \n18  The world's Newsroom brings you global events ...   \n19  BBC Sport brings you all the latest stories an...   \n20  The latest two minute news summary from BBC Wo...   \n21  The Hindu festival of self-injuring to ask the...   \n22  The latest five minute news bulletin from BBC ...   \n23  Solar-powered lamps are giving girls independe...   \n24  The latest two minute news summary from BBC Wo...   \n25  The Moon rush is back. And everyone is a playe...   \n26  The latest five minute news bulletin from BBC ...   \n27  The US and China will continue trade negotiati...   \n28  The latest two minute news summary from BBC Wo...   \n29  A global appetite for shark meat and fins thre...   \n..                                                ...   \n67  The world's Newsroom brings you global events ...   \n68  The latest two minute news summary from BBC Wo...   \n69  We find out how the natural world affects our ...   \n70  Taking a statistical look at what expectant mo...   \n71  The latest five minute news bulletin from BBC ...   \n72  Interviews, news and analysis of the day’s glo...   \n73  The latest five minute news bulletin from BBC ...   \n74  In-depth, hard-hitting interviews with newswor...   \n75  The latest two minute news summary from BBC Wo...   \n76  The latest business and finance news from arou...   \n77  The latest five minute news bulletin from BBC ...   \n78  BBC OS gives a vibrant account of the day’s ev...   \n79  The latest five minute news bulletin from BBC ...   \n80  BBC OS gives a vibrant account of the day’s ev...   \n81  The latest five minute news bulletin from BBC ...   \n82  True stories of ordinary people and the extrao...   \n83  The latest five minute news bulletin from BBC ...   \n84  The world's Newsroom brings you global events ...   \n85  The latest two minute news summary from BBC Wo...   \n86  BBC sports correspondents tell the story behin...   \n87  The latest five minute news bulletin from BBC ...   \n88  In-depth, hard-hitting interviews with newswor...   \n89  The latest two minute news summary from BBC Wo...   \n90              Explorations in the world of science.   \n91  The latest five minute news bulletin from BBC ...   \n92  Interviews, news and analysis of the day’s glo...   \n93  The latest five minute news bulletin from BBC ...   \n94  We find out how the natural world affects our ...   \n95  The latest two minute news summary from BBC Wo...   \n96  Two women with mental health issues talk about...   \n\n                                                   3     4     5     6  \n0   https://www.bbc.co.uk/programmes/w172wy0f3s21kr1  None  None  None  \n1   https://www.bbc.co.uk/programmes/w172wst7wbg7y82  None  None  None  \n2   https://www.bbc.co.uk/programmes/w172wy0f3s21ph5  None  None  None  \n3   https://www.bbc.co.uk/programmes/w172wst7wbg8206  None  None  None  \n4   https://www.bbc.co.uk/programmes/w172wy0f3s21t79  None  None  None  \n5   https://www.bbc.co.uk/programmes/w172wygl5zlz7kt  None  None  None  \n6   https://www.bbc.co.uk/programmes/w172wy8f07spnmd  None  None  None  \n7          https://www.bbc.co.uk/programmes/w3csy9v2  None  None  None  \n8   https://www.bbc.co.uk/programmes/w172wy0f3s21xzf  None  None  None  \n9          https://www.bbc.co.uk/programmes/w3csz4y4  None  None  None  \n10  https://www.bbc.co.uk/programmes/w172wy0f3s221qk  None  None  None  \n11  https://www.bbc.co.uk/programmes/w172wq4sllgg1p7  None  None  None  \n12  https://www.bbc.co.uk/programmes/w172wy0f3s225gp  None  None  None  \n13         https://www.bbc.co.uk/programmes/w3csyn9q  None  None  None  \n14  https://www.bbc.co.uk/programmes/w172wy8f07sq0vs  None  None  None  \n15         https://www.bbc.co.uk/programmes/w3csz56l  None  None  None  \n16         https://www.bbc.co.uk/programmes/w3csz2wm  None  None  None  \n17  https://www.bbc.co.uk/programmes/w172wy0f3s2296t  None  None  None  \n18  https://www.bbc.co.uk/programmes/w172wyfrr809f41  None  None  None  \n19  https://www.bbc.co.uk/programmes/w172wssjq0hq0k3  None  None  None  \n20  https://www.bbc.co.uk/programmes/w172wy8f07sq4lx  None  None  None  \n21         https://www.bbc.co.uk/programmes/w3csz4kr  None  None  None  \n22  https://www.bbc.co.uk/programmes/w172wy0f3s22dyy  None  None  None  \n23         https://www.bbc.co.uk/programmes/w3csz1nn  None  None  None  \n24  https://www.bbc.co.uk/programmes/w172wy8f07sq8c1  None  None  None  \n25         https://www.bbc.co.uk/programmes/w3csy6c0  None  None  None  \n26  https://www.bbc.co.uk/programmes/w172wy0fh1c6cz7  None  None  None  \n27  https://www.bbc.co.uk/programmes/w172wx7xql7crfj  None  None  None  \n28  https://www.bbc.co.uk/programmes/w172wy8fcj2v7cb  None  None  None  \n29         https://www.bbc.co.uk/programmes/w3csym20  None  None  None  \n..                                               ...   ...   ...   ...  \n67  https://www.bbc.co.uk/programmes/w172wyglk7x5889  None  None  None  \n68  https://www.bbc.co.uk/programmes/w172wy8fcj2wp9w  None  None  None  \n69         https://www.bbc.co.uk/programmes/w3csytzt  None  None  None  \n70         https://www.bbc.co.uk/programmes/w3csz3r6  None  None  None  \n71  https://www.bbc.co.uk/programmes/w172wy0fh1c7ynx  None  None  None  \n72  https://www.bbc.co.uk/programmes/w172wq4syvrmyml  None  None  None  \n73  https://www.bbc.co.uk/programmes/w172wy0fh1c82f1  None  None  None  \n74         https://www.bbc.co.uk/programmes/w3csy981  None  None  None  \n75  https://www.bbc.co.uk/programmes/w172wy8fcj2wxt4  None  None  None  \n76  https://www.bbc.co.uk/programmes/w172wx8r59v3syx  None  None  None  \n77  https://www.bbc.co.uk/programmes/w172wy0fh1c8655  None  None  None  \n78  https://www.bbc.co.uk/programmes/w172wrvn3r8zjns  None  None  None  \n79  https://www.bbc.co.uk/programmes/w172wy0fh1c89x9  None  None  None  \n80  https://www.bbc.co.uk/programmes/w172wrvn3r8zndx  None  None  None  \n81  https://www.bbc.co.uk/programmes/w172wy0fh1c8fnf  None  None  None  \n82         https://www.bbc.co.uk/programmes/w3csyfcp  None  None  None  \n83  https://www.bbc.co.uk/programmes/w172wy0fh1c8kdk  None  None  None  \n84  https://www.bbc.co.uk/programmes/w172wyglk7x5zr2  None  None  None  \n85  https://www.bbc.co.uk/programmes/w172wy8fcj2xdsn  None  None  None  \n86  https://www.bbc.co.uk/programmes/w172wsqx5tljpng  None  None  None  \n87  https://www.bbc.co.uk/programmes/w172wy0fh1c8p4p  None  None  None  \n88         https://www.bbc.co.uk/programmes/w3csy981  None  None  None  \n89  https://www.bbc.co.uk/programmes/w172wy8fcj2xjjs  None  None  None  \n90         https://www.bbc.co.uk/programmes/w3csy6c1  None  None  None  \n91  https://www.bbc.co.uk/programmes/w172wy0fh1c8swt  None  None  None  \n92  https://www.bbc.co.uk/programmes/w172wq4syvrnsvh  None  None  None  \n93  https://www.bbc.co.uk/programmes/w172wy0fh1c8xmy  None  None  None  \n94         https://www.bbc.co.uk/programmes/w3csytzt  None  None  None  \n95  https://www.bbc.co.uk/programmes/w172wy8fcj2xs11  None  None  None  \n96         https://www.bbc.co.uk/programmes/w3csynjj  None  None  None  \n\n[97 rows x 7 columns]",
      "text/html": "<div>\n<style scoped>\n    .dataframe tbody tr th:only-of-type {\n        vertical-align: middle;\n    }\n\n    .dataframe tbody tr th {\n        vertical-align: top;\n    }\n\n    .dataframe thead th {\n        text-align: right;\n    }\n</style>\n<table border=\"1\" class=\"dataframe\">\n  <thead>\n    <tr style=\"text-align: right;\">\n      <th></th>\n      <th>0</th>\n      <th>1</th>\n      <th>2</th>\n      <th>3</th>\n      <th>4</th>\n      <th>5</th>\n      <th>6</th>\n    </tr>\n  </thead>\n  <tbody>\n    <tr>\n      <th>0</th>\n      <td>00:00GMT+08:00</td>\n      <td>BBC News—2019/07/28 16:01 GMT</td>\n      <td>The latest five minute news bulletin from BBC ...</td>\n      <td>https://www.bbc.co.uk/programmes/w172wy0f3s21kr1</td>\n      <td>None</td>\n      <td>None</td>\n      <td>None</td>\n    </tr>\n    <tr>\n      <th>1</th>\n      <td>00:06GMT+08:00</td>\n      <td>Sportsworld—The Sportsworld Report</td>\n      <td>The day's top stories from around the world wi...</td>\n      <td>https://www.bbc.co.uk/programmes/w172wst7wbg7y82</td>\n      <td>None</td>\n      <td>None</td>\n      <td>None</td>\n    </tr>\n    <tr>\n      <th>2</th>\n      <td>01:00GMT+08:00</td>\n      <td>BBC News—2019/07/28 17:01 GMT</td>\n      <td>The latest five minute news bulletin from BBC ...</td>\n      <td>https://www.bbc.co.uk/programmes/w172wy0f3s21ph5</td>\n      <td>None</td>\n      <td>None</td>\n      <td>None</td>\n    </tr>\n    <tr>\n      <th>3</th>\n      <td>01:06GMT+08:00</td>\n      <td>Sportsworld—Adventures in Guam: The 2022 World...</td>\n      <td>Mani Djazmi travels to the island of Guam for ...</td>\n      <td>https://www.bbc.co.uk/programmes/w172wst7wbg8206</td>\n      <td>None</td>\n      <td>None</td>\n      <td>None</td>\n    </tr>\n    <tr>\n      <th>4</th>\n      <td>02:00GMT+08:00</td>\n      <td>BBC News—2019/07/28 18:01 GMT</td>\n      <td>The latest five minute news bulletin from BBC ...</td>\n      <td>https://www.bbc.co.uk/programmes/w172wy0f3s21t79</td>\n      <td>None</td>\n      <td>None</td>\n      <td>None</td>\n    </tr>\n    <tr>\n      <th>5</th>\n      <td>02:06GMT+08:00</td>\n      <td>The Newsroom—28/07/2019 GMT</td>\n      <td>The world's Newsroom brings you global events ...</td>\n      <td>https://www.bbc.co.uk/programmes/w172wygl5zlz7kt</td>\n      <td>None</td>\n      <td>None</td>\n      <td>None</td>\n    </tr>\n    <tr>\n      <th>6</th>\n      <td>02:30GMT+08:00</td>\n      <td>BBC News Summary—2019/07/28 18:30 GMT</td>\n      <td>The latest two minute news summary from BBC Wo...</td>\n      <td>https://www.bbc.co.uk/programmes/w172wy8f07spnmd</td>\n      <td>None</td>\n      <td>None</td>\n      <td>None</td>\n    </tr>\n    <tr>\n      <th>7</th>\n      <td>02:32GMT+08:00</td>\n      <td>In the Balance—How to give feedback</td>\n      <td>How difficult is it to give and receive feedba...</td>\n      <td>https://www.bbc.co.uk/programmes/w3csy9v2</td>\n      <td>None</td>\n      <td>None</td>\n      <td>None</td>\n    </tr>\n    <tr>\n      <th>8</th>\n      <td>03:00GMT+08:00</td>\n      <td>BBC News—2019/07/28 19:01 GMT</td>\n      <td>The latest five minute news bulletin from BBC ...</td>\n      <td>https://www.bbc.co.uk/programmes/w172wy0f3s21xzf</td>\n      <td>None</td>\n      <td>None</td>\n      <td>None</td>\n    </tr>\n    <tr>\n      <th>9</th>\n      <td>03:06GMT+08:00</td>\n      <td>Music Extra—How the world changed music</td>\n      <td>Discover how social, economic and cultural for...</td>\n      <td>https://www.bbc.co.uk/programmes/w3csz4y4</td>\n      <td>None</td>\n      <td>None</td>\n      <td>None</td>\n    </tr>\n    <tr>\n      <th>10</th>\n      <td>04:00GMT+08:00</td>\n      <td>BBC News—2019/07/28 20:01 GMT</td>\n      <td>The latest five minute news bulletin from BBC ...</td>\n      <td>https://www.bbc.co.uk/programmes/w172wy0f3s221qk</td>\n      <td>None</td>\n      <td>None</td>\n      <td>None</td>\n    </tr>\n    <tr>\n      <th>11</th>\n      <td>04:06GMT+08:00</td>\n      <td>Newshour—Baltimore residents defend city after...</td>\n      <td>The President described Baltimore as a \"rodent...</td>\n      <td>https://www.bbc.co.uk/programmes/w172wq4sllgg1p7</td>\n      <td>None</td>\n      <td>None</td>\n      <td>None</td>\n    </tr>\n    <tr>\n      <th>12</th>\n      <td>05:00GMT+08:00</td>\n      <td>BBC News—2019/07/28 21:01 GMT</td>\n      <td>The latest five minute news bulletin from BBC ...</td>\n      <td>https://www.bbc.co.uk/programmes/w172wy0f3s225gp</td>\n      <td>None</td>\n      <td>None</td>\n      <td>None</td>\n    </tr>\n    <tr>\n      <th>13</th>\n      <td>05:06GMT+08:00</td>\n      <td>The Cultural Frontline—Come together: How musi...</td>\n      <td>We explore the world of music festivals from U...</td>\n      <td>https://www.bbc.co.uk/programmes/w3csyn9q</td>\n      <td>None</td>\n      <td>None</td>\n      <td>None</td>\n    </tr>\n    <tr>\n      <th>14</th>\n      <td>05:30GMT+08:00</td>\n      <td>BBC News Summary—2019/07/28 21:30 GMT</td>\n      <td>The latest two minute news summary from BBC Wo...</td>\n      <td>https://www.bbc.co.uk/programmes/w172wy8f07sq0vs</td>\n      <td>None</td>\n      <td>None</td>\n      <td>None</td>\n    </tr>\n    <tr>\n      <th>15</th>\n      <td>05:32GMT+08:00</td>\n      <td>In the Dark—Episode 1</td>\n      <td>Why has one man been tried six times for the s...</td>\n      <td>https://www.bbc.co.uk/programmes/w3csz56l</td>\n      <td>None</td>\n      <td>None</td>\n      <td>None</td>\n    </tr>\n    <tr>\n      <th>16</th>\n      <td>05:50GMT+08:00</td>\n      <td>50 Things That Made the Modern Economy—Postage...</td>\n      <td>How a disgruntled customer revolutionised the ...</td>\n      <td>https://www.bbc.co.uk/programmes/w3csz2wm</td>\n      <td>None</td>\n      <td>None</td>\n      <td>None</td>\n    </tr>\n    <tr>\n      <th>17</th>\n      <td>06:00GMT+08:00</td>\n      <td>BBC News—2019/07/28 22:01 GMT</td>\n      <td>The latest five minute news bulletin from BBC ...</td>\n      <td>https://www.bbc.co.uk/programmes/w172wy0f3s2296t</td>\n      <td>None</td>\n      <td>None</td>\n      <td>None</td>\n    </tr>\n    <tr>\n      <th>18</th>\n      <td>06:06GMT+08:00</td>\n      <td>The Newsroom—28/07/2019 GMT</td>\n      <td>The world's Newsroom brings you global events ...</td>\n      <td>https://www.bbc.co.uk/programmes/w172wyfrr809f41</td>\n      <td>None</td>\n      <td>None</td>\n      <td>None</td>\n    </tr>\n    <tr>\n      <th>19</th>\n      <td>06:20GMT+08:00</td>\n      <td>Sports News—28/07/2019 GMT</td>\n      <td>BBC Sport brings you all the latest stories an...</td>\n      <td>https://www.bbc.co.uk/programmes/w172wssjq0hq0k3</td>\n      <td>None</td>\n      <td>None</td>\n      <td>None</td>\n    </tr>\n    <tr>\n      <th>20</th>\n      <td>06:30GMT+08:00</td>\n      <td>BBC News Summary—2019/07/28 22:30 GMT</td>\n      <td>The latest two minute news summary from BBC Wo...</td>\n      <td>https://www.bbc.co.uk/programmes/w172wy8f07sq4lx</td>\n      <td>None</td>\n      <td>None</td>\n      <td>None</td>\n    </tr>\n    <tr>\n      <th>21</th>\n      <td>06:32GMT+08:00</td>\n      <td>Heart and Soul—Walking on a hot coil</td>\n      <td>The Hindu festival of self-injuring to ask the...</td>\n      <td>https://www.bbc.co.uk/programmes/w3csz4kr</td>\n      <td>None</td>\n      <td>None</td>\n      <td>None</td>\n    </tr>\n    <tr>\n      <th>22</th>\n      <td>07:00GMT+08:00</td>\n      <td>BBC News—2019/07/28 23:01 GMT</td>\n      <td>The latest five minute news bulletin from BBC ...</td>\n      <td>https://www.bbc.co.uk/programmes/w172wy0f3s22dyy</td>\n      <td>None</td>\n      <td>None</td>\n      <td>None</td>\n    </tr>\n    <tr>\n      <th>23</th>\n      <td>07:06GMT+08:00</td>\n      <td>People Fixing the World—Stopping child marriag...</td>\n      <td>Solar-powered lamps are giving girls independe...</td>\n      <td>https://www.bbc.co.uk/programmes/w3csz1nn</td>\n      <td>None</td>\n      <td>None</td>\n      <td>None</td>\n    </tr>\n    <tr>\n      <th>24</th>\n      <td>07:30GMT+08:00</td>\n      <td>BBC News Summary—2019/07/28 23:30 GMT</td>\n      <td>The latest two minute news summary from BBC Wo...</td>\n      <td>https://www.bbc.co.uk/programmes/w172wy8f07sq8c1</td>\n      <td>None</td>\n      <td>None</td>\n      <td>None</td>\n    </tr>\n    <tr>\n      <th>25</th>\n      <td>07:32GMT+08:00</td>\n      <td>Discovery—What next for the Moon?</td>\n      <td>The Moon rush is back. And everyone is a playe...</td>\n      <td>https://www.bbc.co.uk/programmes/w3csy6c0</td>\n      <td>None</td>\n      <td>None</td>\n      <td>None</td>\n    </tr>\n    <tr>\n      <th>26</th>\n      <td>08:00GMT+08:00</td>\n      <td>BBC News—2019/07/29 00:01 GMT</td>\n      <td>The latest five minute news bulletin from BBC ...</td>\n      <td>https://www.bbc.co.uk/programmes/w172wy0fh1c6cz7</td>\n      <td>None</td>\n      <td>None</td>\n      <td>None</td>\n    </tr>\n    <tr>\n      <th>27</th>\n      <td>08:06GMT+08:00</td>\n      <td>World Business Report—Trade talks to continue ...</td>\n      <td>The US and China will continue trade negotiati...</td>\n      <td>https://www.bbc.co.uk/programmes/w172wx7xql7crfj</td>\n      <td>None</td>\n      <td>None</td>\n      <td>None</td>\n    </tr>\n    <tr>\n      <th>28</th>\n      <td>08:30GMT+08:00</td>\n      <td>BBC News Summary—2019/07/29 00:30 GMT</td>\n      <td>The latest two minute news summary from BBC Wo...</td>\n      <td>https://www.bbc.co.uk/programmes/w172wy8fcj2v7cb</td>\n      <td>None</td>\n      <td>None</td>\n      <td>None</td>\n    </tr>\n    <tr>\n      <th>29</th>\n      <td>08:32GMT+08:00</td>\n      <td>Science in Action—The human danger – for sharks</td>\n      <td>A global appetite for shark meat and fins thre...</td>\n      <td>https://www.bbc.co.uk/programmes/w3csym20</td>\n      <td>None</td>\n      <td>None</td>\n      <td>None</td>\n    </tr>\n    <tr>\n      <th>...</th>\n      <td>...</td>\n      <td>...</td>\n      <td>...</td>\n      <td>...</td>\n      <td>...</td>\n      <td>...</td>\n      <td>...</td>\n    </tr>\n    <tr>\n      <th>67</th>\n      <td>20:06GMT+08:00</td>\n      <td>The Newsroom—29/07/2019 GMT</td>\n      <td>The world's Newsroom brings you global events ...</td>\n      <td>https://www.bbc.co.uk/programmes/w172wyglk7x5889</td>\n      <td>None</td>\n      <td>None</td>\n      <td>None</td>\n    </tr>\n    <tr>\n      <th>68</th>\n      <td>20:30GMT+08:00</td>\n      <td>BBC News Summary—2019/07/29 12:30 GMT</td>\n      <td>The latest two minute news summary from BBC Wo...</td>\n      <td>https://www.bbc.co.uk/programmes/w172wy8fcj2wp9w</td>\n      <td>None</td>\n      <td>None</td>\n      <td>None</td>\n    </tr>\n    <tr>\n      <th>69</th>\n      <td>20:32GMT+08:00</td>\n      <td>The Why Factor—Why does nature calm anxiety?</td>\n      <td>We find out how the natural world affects our ...</td>\n      <td>https://www.bbc.co.uk/programmes/w3csytzt</td>\n      <td>None</td>\n      <td>None</td>\n      <td>None</td>\n    </tr>\n    <tr>\n      <th>70</th>\n      <td>20:50GMT+08:00</td>\n      <td>More or Less—Pregnancy prohibitions – the evid...</td>\n      <td>Taking a statistical look at what expectant mo...</td>\n      <td>https://www.bbc.co.uk/programmes/w3csz3r6</td>\n      <td>None</td>\n      <td>None</td>\n      <td>None</td>\n    </tr>\n    <tr>\n      <th>71</th>\n      <td>21:00GMT+08:00</td>\n      <td>BBC News—2019/07/29 13:01 GMT</td>\n      <td>The latest five minute news bulletin from BBC ...</td>\n      <td>https://www.bbc.co.uk/programmes/w172wy0fh1c7ynx</td>\n      <td>None</td>\n      <td>None</td>\n      <td>None</td>\n    </tr>\n    <tr>\n      <th>72</th>\n      <td>21:06GMT+08:00</td>\n      <td>Newshour—29/07/2019 GMT</td>\n      <td>Interviews, news and analysis of the day’s glo...</td>\n      <td>https://www.bbc.co.uk/programmes/w172wq4syvrmyml</td>\n      <td>None</td>\n      <td>None</td>\n      <td>None</td>\n    </tr>\n    <tr>\n      <th>73</th>\n      <td>22:00GMT+08:00</td>\n      <td>BBC News—2019/07/29 14:01 GMT</td>\n      <td>The latest five minute news bulletin from BBC ...</td>\n      <td>https://www.bbc.co.uk/programmes/w172wy0fh1c82f1</td>\n      <td>None</td>\n      <td>None</td>\n      <td>None</td>\n    </tr>\n    <tr>\n      <th>74</th>\n      <td>22:06GMT+08:00</td>\n      <td>HARDtalk—29/07/2019 GMT</td>\n      <td>In-depth, hard-hitting interviews with newswor...</td>\n      <td>https://www.bbc.co.uk/programmes/w3csy981</td>\n      <td>None</td>\n      <td>None</td>\n      <td>None</td>\n    </tr>\n    <tr>\n      <th>75</th>\n      <td>22:30GMT+08:00</td>\n      <td>BBC News Summary—2019/07/29 14:30 GMT</td>\n      <td>The latest two minute news summary from BBC Wo...</td>\n      <td>https://www.bbc.co.uk/programmes/w172wy8fcj2wxt4</td>\n      <td>None</td>\n      <td>None</td>\n      <td>None</td>\n    </tr>\n    <tr>\n      <th>76</th>\n      <td>22:32GMT+08:00</td>\n      <td>World Business Report—First broadcast 2019/07/...</td>\n      <td>The latest business and finance news from arou...</td>\n      <td>https://www.bbc.co.uk/programmes/w172wx8r59v3syx</td>\n      <td>None</td>\n      <td>None</td>\n      <td>None</td>\n    </tr>\n    <tr>\n      <th>77</th>\n      <td>23:00GMT+08:00</td>\n      <td>BBC News—2019/07/29 15:01 GMT</td>\n      <td>The latest five minute news bulletin from BBC ...</td>\n      <td>https://www.bbc.co.uk/programmes/w172wy0fh1c8655</td>\n      <td>None</td>\n      <td>None</td>\n      <td>None</td>\n    </tr>\n    <tr>\n      <th>78</th>\n      <td>23:06GMT+08:00</td>\n      <td>BBC OS—29/07/2019 GMT</td>\n      <td>BBC OS gives a vibrant account of the day’s ev...</td>\n      <td>https://www.bbc.co.uk/programmes/w172wrvn3r8zjns</td>\n      <td>None</td>\n      <td>None</td>\n      <td>None</td>\n    </tr>\n    <tr>\n      <th>79</th>\n      <td>00:00GMT+08:00</td>\n      <td>BBC News—2019/07/29 16:01 GMT</td>\n      <td>The latest five minute news bulletin from BBC ...</td>\n      <td>https://www.bbc.co.uk/programmes/w172wy0fh1c89x9</td>\n      <td>None</td>\n      <td>None</td>\n      <td>None</td>\n    </tr>\n    <tr>\n      <th>80</th>\n      <td>00:06GMT+08:00</td>\n      <td>BBC OS—29/07/2019 GMT</td>\n      <td>BBC OS gives a vibrant account of the day’s ev...</td>\n      <td>https://www.bbc.co.uk/programmes/w172wrvn3r8zndx</td>\n      <td>None</td>\n      <td>None</td>\n      <td>None</td>\n    </tr>\n    <tr>\n      <th>81</th>\n      <td>01:00GMT+08:00</td>\n      <td>BBC News—2019/07/29 17:01 GMT</td>\n      <td>The latest five minute news bulletin from BBC ...</td>\n      <td>https://www.bbc.co.uk/programmes/w172wy0fh1c8fnf</td>\n      <td>None</td>\n      <td>None</td>\n      <td>None</td>\n    </tr>\n    <tr>\n      <th>82</th>\n      <td>01:06GMT+08:00</td>\n      <td>Outlook—29/07/2019 GMT</td>\n      <td>True stories of ordinary people and the extrao...</td>\n      <td>https://www.bbc.co.uk/programmes/w3csyfcp</td>\n      <td>None</td>\n      <td>None</td>\n      <td>None</td>\n    </tr>\n    <tr>\n      <th>83</th>\n      <td>02:00GMT+08:00</td>\n      <td>BBC News—2019/07/29 18:01 GMT</td>\n      <td>The latest five minute news bulletin from BBC ...</td>\n      <td>https://www.bbc.co.uk/programmes/w172wy0fh1c8kdk</td>\n      <td>None</td>\n      <td>None</td>\n      <td>None</td>\n    </tr>\n    <tr>\n      <th>84</th>\n      <td>02:06GMT+08:00</td>\n      <td>The Newsroom—29/07/2019 GMT</td>\n      <td>The world's Newsroom brings you global events ...</td>\n      <td>https://www.bbc.co.uk/programmes/w172wyglk7x5zr2</td>\n      <td>None</td>\n      <td>None</td>\n      <td>None</td>\n    </tr>\n    <tr>\n      <th>85</th>\n      <td>02:30GMT+08:00</td>\n      <td>BBC News Summary—2019/07/29 18:30 GMT</td>\n      <td>The latest two minute news summary from BBC Wo...</td>\n      <td>https://www.bbc.co.uk/programmes/w172wy8fcj2xdsn</td>\n      <td>None</td>\n      <td>None</td>\n      <td>None</td>\n    </tr>\n    <tr>\n      <th>86</th>\n      <td>02:32GMT+08:00</td>\n      <td>Sport Today—2019/07/29 GMT</td>\n      <td>BBC sports correspondents tell the story behin...</td>\n      <td>https://www.bbc.co.uk/programmes/w172wsqx5tljpng</td>\n      <td>None</td>\n      <td>None</td>\n      <td>None</td>\n    </tr>\n    <tr>\n      <th>87</th>\n      <td>03:00GMT+08:00</td>\n      <td>BBC News—2019/07/29 19:01 GMT</td>\n      <td>The latest five minute news bulletin from BBC ...</td>\n      <td>https://www.bbc.co.uk/programmes/w172wy0fh1c8p4p</td>\n      <td>None</td>\n      <td>None</td>\n      <td>None</td>\n    </tr>\n    <tr>\n      <th>88</th>\n      <td>03:06GMT+08:00</td>\n      <td>HARDtalk—29/07/2019 GMT</td>\n      <td>In-depth, hard-hitting interviews with newswor...</td>\n      <td>https://www.bbc.co.uk/programmes/w3csy981</td>\n      <td>None</td>\n      <td>None</td>\n      <td>None</td>\n    </tr>\n    <tr>\n      <th>89</th>\n      <td>03:30GMT+08:00</td>\n      <td>BBC News Summary—2019/07/29 19:30 GMT</td>\n      <td>The latest two minute news summary from BBC Wo...</td>\n      <td>https://www.bbc.co.uk/programmes/w172wy8fcj2xjjs</td>\n      <td>None</td>\n      <td>None</td>\n      <td>None</td>\n    </tr>\n    <tr>\n      <th>90</th>\n      <td>03:32GMT+08:00</td>\n      <td>Discovery—29/07/2019 GMT</td>\n      <td>Explorations in the world of science.</td>\n      <td>https://www.bbc.co.uk/programmes/w3csy6c1</td>\n      <td>None</td>\n      <td>None</td>\n      <td>None</td>\n    </tr>\n    <tr>\n      <th>91</th>\n      <td>04:00GMT+08:00</td>\n      <td>BBC News—2019/07/29 20:01 GMT</td>\n      <td>The latest five minute news bulletin from BBC ...</td>\n      <td>https://www.bbc.co.uk/programmes/w172wy0fh1c8swt</td>\n      <td>None</td>\n      <td>None</td>\n      <td>None</td>\n    </tr>\n    <tr>\n      <th>92</th>\n      <td>04:06GMT+08:00</td>\n      <td>Newshour—29/07/2019 GMT</td>\n      <td>Interviews, news and analysis of the day’s glo...</td>\n      <td>https://www.bbc.co.uk/programmes/w172wq4syvrnsvh</td>\n      <td>None</td>\n      <td>None</td>\n      <td>None</td>\n    </tr>\n    <tr>\n      <th>93</th>\n      <td>05:00GMT+08:00</td>\n      <td>BBC News—2019/07/29 21:01 GMT</td>\n      <td>The latest five minute news bulletin from BBC ...</td>\n      <td>https://www.bbc.co.uk/programmes/w172wy0fh1c8xmy</td>\n      <td>None</td>\n      <td>None</td>\n      <td>None</td>\n    </tr>\n    <tr>\n      <th>94</th>\n      <td>05:06GMT+08:00</td>\n      <td>The Why Factor—Why does nature calm anxiety?</td>\n      <td>We find out how the natural world affects our ...</td>\n      <td>https://www.bbc.co.uk/programmes/w3csytzt</td>\n      <td>None</td>\n      <td>None</td>\n      <td>None</td>\n    </tr>\n    <tr>\n      <th>95</th>\n      <td>05:30GMT+08:00</td>\n      <td>BBC News Summary—2019/07/29 21:30 GMT</td>\n      <td>The latest two minute news summary from BBC Wo...</td>\n      <td>https://www.bbc.co.uk/programmes/w172wy8fcj2xs11</td>\n      <td>None</td>\n      <td>None</td>\n      <td>None</td>\n    </tr>\n    <tr>\n      <th>96</th>\n      <td>05:32GMT+08:00</td>\n      <td>The Conversation—Women living with schizophrenia</td>\n      <td>Two women with mental health issues talk about...</td>\n      <td>https://www.bbc.co.uk/programmes/w3csynjj</td>\n      <td>None</td>\n      <td>None</td>\n      <td>None</td>\n    </tr>\n  </tbody>\n</table>\n<p>97 rows × 7 columns</p>\n</div>"
     },
     "metadata": {},
     "output_type": "execute_result",
     "execution_count": 248
    }
   ],
   "source": [
    "df"
   ],
   "metadata": {
    "collapsed": false,
    "pycharm": {
     "name": "#%%\n",
     "is_executing": false
    }
   }
  },
  {
   "cell_type": "code",
   "execution_count": 249,
   "outputs": [
    {
     "traceback": [
      "\u001b[1;31m---------------------------------------------------------------------------\u001b[0m",
      "\u001b[1;31mPermissionError\u001b[0m                           Traceback (most recent call last)",
      "\u001b[1;32m<ipython-input-249-752a543c7769>\u001b[0m in \u001b[0;36m<module>\u001b[1;34m()\u001b[0m\n\u001b[0;32m      1\u001b[0m \u001b[1;33m\u001b[0m\u001b[0m\n\u001b[1;32m----> 2\u001b[1;33m \u001b[0mdf\u001b[0m\u001b[1;33m.\u001b[0m\u001b[0mto_csv\u001b[0m\u001b[1;33m(\u001b[0m\u001b[1;34m'output.csv'\u001b[0m\u001b[1;33m,\u001b[0m \u001b[0mencoding\u001b[0m\u001b[1;33m=\u001b[0m\u001b[1;34m'gbk'\u001b[0m\u001b[1;33m,\u001b[0m \u001b[0mindex\u001b[0m\u001b[1;33m=\u001b[0m\u001b[1;32mFalse\u001b[0m\u001b[1;33m)\u001b[0m\u001b[1;33m\u001b[0m\u001b[0m\n\u001b[0m\u001b[0;32m      3\u001b[0m \u001b[1;33m\u001b[0m\u001b[0m\n",
      "\u001b[1;32mc:\\users\\zhouxiang\\.virtualenvs\\demo-python-scrape-webpage-with-requests-h-rgkp3mew\\lib\\site-packages\\pandas\\core\\frame.py\u001b[0m in \u001b[0;36mto_csv\u001b[1;34m(self, path_or_buf, sep, na_rep, float_format, columns, header, index, index_label, mode, encoding, compression, quoting, quotechar, line_terminator, chunksize, tupleize_cols, date_format, doublequote, escapechar, decimal)\u001b[0m\n\u001b[0;32m   1522\u001b[0m                                      \u001b[0mdoublequote\u001b[0m\u001b[1;33m=\u001b[0m\u001b[0mdoublequote\u001b[0m\u001b[1;33m,\u001b[0m\u001b[1;33m\u001b[0m\u001b[0m\n\u001b[0;32m   1523\u001b[0m                                      escapechar=escapechar, decimal=decimal)\n\u001b[1;32m-> 1524\u001b[1;33m         \u001b[0mformatter\u001b[0m\u001b[1;33m.\u001b[0m\u001b[0msave\u001b[0m\u001b[1;33m(\u001b[0m\u001b[1;33m)\u001b[0m\u001b[1;33m\u001b[0m\u001b[0m\n\u001b[0m\u001b[0;32m   1525\u001b[0m \u001b[1;33m\u001b[0m\u001b[0m\n\u001b[0;32m   1526\u001b[0m         \u001b[1;32mif\u001b[0m \u001b[0mpath_or_buf\u001b[0m \u001b[1;32mis\u001b[0m \u001b[1;32mNone\u001b[0m\u001b[1;33m:\u001b[0m\u001b[1;33m\u001b[0m\u001b[0m\n",
      "\u001b[1;32mc:\\users\\zhouxiang\\.virtualenvs\\demo-python-scrape-webpage-with-requests-h-rgkp3mew\\lib\\site-packages\\pandas\\io\\formats\\format.py\u001b[0m in \u001b[0;36msave\u001b[1;34m(self)\u001b[0m\n\u001b[0;32m   1635\u001b[0m             f, handles = _get_handle(self.path_or_buf, self.mode,\n\u001b[0;32m   1636\u001b[0m                                      \u001b[0mencoding\u001b[0m\u001b[1;33m=\u001b[0m\u001b[0mencoding\u001b[0m\u001b[1;33m,\u001b[0m\u001b[1;33m\u001b[0m\u001b[0m\n\u001b[1;32m-> 1637\u001b[1;33m                                      compression=self.compression)\n\u001b[0m\u001b[0;32m   1638\u001b[0m             \u001b[0mclose\u001b[0m \u001b[1;33m=\u001b[0m \u001b[1;32mTrue\u001b[0m\u001b[1;33m\u001b[0m\u001b[0m\n\u001b[0;32m   1639\u001b[0m \u001b[1;33m\u001b[0m\u001b[0m\n",
      "\u001b[1;32mc:\\users\\zhouxiang\\.virtualenvs\\demo-python-scrape-webpage-with-requests-h-rgkp3mew\\lib\\site-packages\\pandas\\io\\common.py\u001b[0m in \u001b[0;36m_get_handle\u001b[1;34m(path_or_buf, mode, encoding, compression, memory_map, is_text)\u001b[0m\n\u001b[0;32m    388\u001b[0m         \u001b[1;32melif\u001b[0m \u001b[0mencoding\u001b[0m\u001b[1;33m:\u001b[0m\u001b[1;33m\u001b[0m\u001b[0m\n\u001b[0;32m    389\u001b[0m             \u001b[1;31m# Python 3 and encoding\u001b[0m\u001b[1;33m\u001b[0m\u001b[1;33m\u001b[0m\u001b[0m\n\u001b[1;32m--> 390\u001b[1;33m             \u001b[0mf\u001b[0m \u001b[1;33m=\u001b[0m \u001b[0mopen\u001b[0m\u001b[1;33m(\u001b[0m\u001b[0mpath_or_buf\u001b[0m\u001b[1;33m,\u001b[0m \u001b[0mmode\u001b[0m\u001b[1;33m,\u001b[0m \u001b[0mencoding\u001b[0m\u001b[1;33m=\u001b[0m\u001b[0mencoding\u001b[0m\u001b[1;33m)\u001b[0m\u001b[1;33m\u001b[0m\u001b[0m\n\u001b[0m\u001b[0;32m    391\u001b[0m         \u001b[1;32melif\u001b[0m \u001b[0mis_text\u001b[0m\u001b[1;33m:\u001b[0m\u001b[1;33m\u001b[0m\u001b[0m\n\u001b[0;32m    392\u001b[0m             \u001b[1;31m# Python 3 and no explicit encoding\u001b[0m\u001b[1;33m\u001b[0m\u001b[1;33m\u001b[0m\u001b[0m\n",
      "\u001b[1;31mPermissionError\u001b[0m: [Errno 13] Permission denied: 'output.csv'"
     ],
     "ename": "PermissionError",
     "evalue": "[Errno 13] Permission denied: 'output.csv'",
     "output_type": "error"
    }
   ],
   "source": [
    "df.to_csv('output.csv', encoding='gbk', index=False)"
   ],
   "metadata": {
    "collapsed": false,
    "pycharm": {
     "name": "#%%\n",
     "is_executing": false
    }
   }
  },
  {
   "cell_type": "code",
   "execution_count": null,
   "outputs": [],
   "source": [
    "\n",
    "\n"
   ],
   "metadata": {
    "collapsed": false,
    "pycharm": {
     "name": "#%%\n",
     "is_executing": false
    }
   }
  }
 ],
 "metadata": {
  "language_info": {
   "codemirror_mode": {
    "name": "ipython",
    "version": 2
   },
   "file_extension": ".py",
   "mimetype": "text/x-python",
   "name": "python",
   "nbconvert_exporter": "python",
   "pygments_lexer": "ipython2",
   "version": "2.7.6"
  },
  "kernelspec": {
   "name": "python3",
   "language": "python",
   "display_name": "Python 3"
  },
  "pycharm": {
   "stem_cell": {
    "cell_type": "raw",
    "source": [],
    "metadata": {
     "collapsed": false
    }
   }
  }
 },
 "nbformat": 4,
 "nbformat_minor": 0
}